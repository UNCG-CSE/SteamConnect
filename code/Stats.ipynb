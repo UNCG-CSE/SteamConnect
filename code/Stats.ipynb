{
 "cells": [
  {
   "cell_type": "markdown",
   "metadata": {
    "scrolled": true
   },
   "source": [
    "# Statistics"
   ]
  },
  {
   "cell_type": "code",
   "execution_count": 2,
   "metadata": {
    "collapsed": true
   },
   "outputs": [],
   "source": [
    "import pandas as pd\n",
    "import numpy as np\n",
    "import matplotlib.pyplot as plt\n",
    "import seaborn as sns\n",
    "import scipy.stats as stats\n",
    "%matplotlib inline"
   ]
  },
  {
   "cell_type": "code",
   "execution_count": 17,
   "metadata": {
    "collapsed": true,
    "scrolled": false
   },
   "outputs": [],
   "source": [
    "early = pd.read_json('../data/early_access.json').transpose().dropna(how = 'any').apply(pd.to_numeric, errors='ignore')\n",
    "ex_early = pd.read_json('../data/ex_early_access.json').transpose().dropna(how = 'any').apply(pd.to_numeric, errors='ignore')\n",
    "games = pd.read_json('../data/all_games.json').transpose().dropna(how = 'any').apply(pd.to_numeric, errors='ignore')"
   ]
  },
  {
   "cell_type": "code",
   "execution_count": 18,
   "metadata": {
    "collapsed": true
   },
   "outputs": [],
   "source": [
    "early['userscore'] = early['positive'] / (early['negative'] + early['positive']) * 100\n",
    "ex_early['userscore'] = ex_early['positive'] / (ex_early['negative'] + ex_early['positive']) * 100\n",
    "games['userscore'] = games['positive'] / (games['negative'] + games['positive']) * 100"
   ]
  },
  {
   "cell_type": "code",
   "execution_count": 19,
   "metadata": {},
   "outputs": [
    {
     "data": {
      "text/plain": [
       "15744"
      ]
     },
     "execution_count": 19,
     "metadata": {},
     "output_type": "execute_result"
    }
   ],
   "source": [
    "early['status'] = 'early access'\n",
    "ex_early['status'] = 'ex early access'\n",
    "games['status'] = 'full release'\n",
    "\n",
    "games = games.append(early)\n",
    "games = games.append(ex_early)\n",
    "\n",
    "games.drop_duplicates(['appid'], keep = 'last', inplace = True)\n",
    "games['total reviews'] = games['negative'] + games['positive']\n",
    "games.appid.count()"
   ]
  },
  {
   "cell_type": "code",
   "execution_count": 33,
   "metadata": {},
   "outputs": [
    {
     "data": {
      "text/html": [
       "<div>\n",
       "<style>\n",
       "    .dataframe thead tr:only-child th {\n",
       "        text-align: right;\n",
       "    }\n",
       "\n",
       "    .dataframe thead th {\n",
       "        text-align: left;\n",
       "    }\n",
       "\n",
       "    .dataframe tbody tr th {\n",
       "        vertical-align: top;\n",
       "    }\n",
       "</style>\n",
       "<table border=\"1\" class=\"dataframe\">\n",
       "  <thead>\n",
       "    <tr style=\"text-align: right;\">\n",
       "      <th></th>\n",
       "      <th>appid</th>\n",
       "      <th>average_2weeks</th>\n",
       "      <th>average_forever</th>\n",
       "      <th>developer</th>\n",
       "      <th>median_2weeks</th>\n",
       "      <th>median_forever</th>\n",
       "      <th>name</th>\n",
       "      <th>negative</th>\n",
       "      <th>owners</th>\n",
       "      <th>owners_variance</th>\n",
       "      <th>...</th>\n",
       "      <th>players_2weeks_variance</th>\n",
       "      <th>players_forever</th>\n",
       "      <th>players_forever_variance</th>\n",
       "      <th>positive</th>\n",
       "      <th>price</th>\n",
       "      <th>publisher</th>\n",
       "      <th>score_rank</th>\n",
       "      <th>userscore</th>\n",
       "      <th>status</th>\n",
       "      <th>total reviews</th>\n",
       "    </tr>\n",
       "  </thead>\n",
       "  <tbody>\n",
       "    <tr>\n",
       "      <th>10</th>\n",
       "      <td>10</td>\n",
       "      <td>577</td>\n",
       "      <td>11400</td>\n",
       "      <td>Valve</td>\n",
       "      <td>65</td>\n",
       "      <td>402</td>\n",
       "      <td>Counter-Strike</td>\n",
       "      <td>2268</td>\n",
       "      <td>14193624</td>\n",
       "      <td>114203</td>\n",
       "      <td>...</td>\n",
       "      <td>20654</td>\n",
       "      <td>9939125</td>\n",
       "      <td>95998</td>\n",
       "      <td>101728</td>\n",
       "      <td>999</td>\n",
       "      <td>Valve</td>\n",
       "      <td>97.0</td>\n",
       "      <td>97.819147</td>\n",
       "      <td>full release</td>\n",
       "      <td>103996</td>\n",
       "    </tr>\n",
       "    <tr>\n",
       "      <th>100</th>\n",
       "      <td>100</td>\n",
       "      <td>166</td>\n",
       "      <td>194</td>\n",
       "      <td>Valve</td>\n",
       "      <td>16</td>\n",
       "      <td>33</td>\n",
       "      <td>Counter-Strike: Condition Zero</td>\n",
       "      <td>1015</td>\n",
       "      <td>11558779</td>\n",
       "      <td>103348</td>\n",
       "      <td>...</td>\n",
       "      <td>5052</td>\n",
       "      <td>2080610</td>\n",
       "      <td>44285</td>\n",
       "      <td>9159</td>\n",
       "      <td>999</td>\n",
       "      <td>Valve</td>\n",
       "      <td>74.0</td>\n",
       "      <td>90.023590</td>\n",
       "      <td>full release</td>\n",
       "      <td>10174</td>\n",
       "    </tr>\n",
       "    <tr>\n",
       "      <th>1002</th>\n",
       "      <td>1002</td>\n",
       "      <td>0</td>\n",
       "      <td>46</td>\n",
       "      <td>Mark Healey</td>\n",
       "      <td>0</td>\n",
       "      <td>16</td>\n",
       "      <td>Rag Doll Kung Fu</td>\n",
       "      <td>18</td>\n",
       "      <td>38599</td>\n",
       "      <td>6044</td>\n",
       "      <td>...</td>\n",
       "      <td>0</td>\n",
       "      <td>11876</td>\n",
       "      <td>3353</td>\n",
       "      <td>38</td>\n",
       "      <td>999</td>\n",
       "      <td>Mark Healey</td>\n",
       "      <td>24.0</td>\n",
       "      <td>67.857143</td>\n",
       "      <td>full release</td>\n",
       "      <td>56</td>\n",
       "    </tr>\n",
       "    <tr>\n",
       "      <th>100400</th>\n",
       "      <td>100400</td>\n",
       "      <td>1197</td>\n",
       "      <td>3433</td>\n",
       "      <td>Nevercenter Ltd. Co.</td>\n",
       "      <td>1197</td>\n",
       "      <td>706</td>\n",
       "      <td>Silo 2</td>\n",
       "      <td>15</td>\n",
       "      <td>6433</td>\n",
       "      <td>2467</td>\n",
       "      <td>...</td>\n",
       "      <td>1463</td>\n",
       "      <td>5196</td>\n",
       "      <td>2217</td>\n",
       "      <td>43</td>\n",
       "      <td>9999</td>\n",
       "      <td>Nevercenter Ltd. Co.</td>\n",
       "      <td>34.0</td>\n",
       "      <td>74.137931</td>\n",
       "      <td>full release</td>\n",
       "      <td>58</td>\n",
       "    </tr>\n",
       "    <tr>\n",
       "      <th>100410</th>\n",
       "      <td>100410</td>\n",
       "      <td>0</td>\n",
       "      <td>855</td>\n",
       "      <td>Nevercenter Ltd. Co.</td>\n",
       "      <td>0</td>\n",
       "      <td>97</td>\n",
       "      <td>CameraBag 2</td>\n",
       "      <td>32</td>\n",
       "      <td>14103</td>\n",
       "      <td>3653</td>\n",
       "      <td>...</td>\n",
       "      <td>0</td>\n",
       "      <td>12371</td>\n",
       "      <td>3422</td>\n",
       "      <td>98</td>\n",
       "      <td>0</td>\n",
       "      <td>Nevercenter Ltd. Co.</td>\n",
       "      <td>36.0</td>\n",
       "      <td>75.384615</td>\n",
       "      <td>full release</td>\n",
       "      <td>130</td>\n",
       "    </tr>\n",
       "  </tbody>\n",
       "</table>\n",
       "<p>5 rows × 21 columns</p>\n",
       "</div>"
      ],
      "text/plain": [
       "         appid  average_2weeks  average_forever             developer  \\\n",
       "10          10             577            11400                 Valve   \n",
       "100        100             166              194                 Valve   \n",
       "1002      1002               0               46           Mark Healey   \n",
       "100400  100400            1197             3433  Nevercenter Ltd. Co.   \n",
       "100410  100410               0              855  Nevercenter Ltd. Co.   \n",
       "\n",
       "        median_2weeks  median_forever                            name  \\\n",
       "10                 65             402                  Counter-Strike   \n",
       "100                16              33  Counter-Strike: Condition Zero   \n",
       "1002                0              16                Rag Doll Kung Fu   \n",
       "100400           1197             706                          Silo 2   \n",
       "100410              0              97                     CameraBag 2   \n",
       "\n",
       "        negative    owners  owners_variance      ...       \\\n",
       "10          2268  14193624           114203      ...        \n",
       "100         1015  11558779           103348      ...        \n",
       "1002          18     38599             6044      ...        \n",
       "100400        15      6433             2467      ...        \n",
       "100410        32     14103             3653      ...        \n",
       "\n",
       "        players_2weeks_variance  players_forever  players_forever_variance  \\\n",
       "10                        20654          9939125                     95998   \n",
       "100                        5052          2080610                     44285   \n",
       "1002                          0            11876                      3353   \n",
       "100400                     1463             5196                      2217   \n",
       "100410                        0            12371                      3422   \n",
       "\n",
       "        positive  price             publisher score_rank  userscore  \\\n",
       "10        101728    999                 Valve       97.0  97.819147   \n",
       "100         9159    999                 Valve       74.0  90.023590   \n",
       "1002          38    999           Mark Healey       24.0  67.857143   \n",
       "100400        43   9999  Nevercenter Ltd. Co.       34.0  74.137931   \n",
       "100410        98      0  Nevercenter Ltd. Co.       36.0  75.384615   \n",
       "\n",
       "              status total reviews  \n",
       "10      full release        103996  \n",
       "100     full release         10174  \n",
       "1002    full release            56  \n",
       "100400  full release            58  \n",
       "100410  full release           130  \n",
       "\n",
       "[5 rows x 21 columns]"
      ]
     },
     "execution_count": 33,
     "metadata": {},
     "output_type": "execute_result"
    }
   ],
   "source": [
    "games = games[games['total reviews'] > 25]\n",
    "games.head()"
   ]
  },
  {
   "cell_type": "code",
   "execution_count": null,
   "metadata": {
    "collapsed": true
   },
   "outputs": [],
   "source": []
  },
  {
   "cell_type": "markdown",
   "metadata": {},
   "source": [
    "## What kind of data do we have?"
   ]
  },
  {
   "cell_type": "markdown",
   "metadata": {
    "collapsed": true
   },
   "source": [
    "How many games do we have?"
   ]
  },
  {
   "cell_type": "code",
   "execution_count": 25,
   "metadata": {},
   "outputs": [
    {
     "name": "stdout",
     "output_type": "stream",
     "text": [
      "status\n",
      "early access        903\n",
      "ex early access     938\n",
      "full release       9390\n",
      "Name: appid, dtype: int64\n"
     ]
    },
    {
     "data": {
      "text/plain": [
       "<matplotlib.axes._subplots.AxesSubplot at 0x7fbec3687110>"
      ]
     },
     "execution_count": 25,
     "metadata": {},
     "output_type": "execute_result"
    },
    {
     "data": {
      "image/png": "[encoded data removed]",
      "text/plain": [
       "<matplotlib.figure.Figure at 0x7fbec7b86c50>"
      ]
     },
     "metadata": {},
     "output_type": "display_data"
    }
   ],
   "source": [
    "grouped = games.groupby('status')\n",
    "print grouped['appid'].count()\n",
    "grouped['appid'].count().plot(kind = 'pie')"
   ]
  },
  {
   "cell_type": "markdown",
   "metadata": {},
   "source": [
    "Average UserScore Comparison"
   ]
  },
  {
   "cell_type": "code",
   "execution_count": 26,
   "metadata": {},
   "outputs": [
    {
     "name": "stdout",
     "output_type": "stream",
     "text": [
      "status\n",
      "early access       73.073696\n",
      "ex early access    73.305121\n",
      "full release       73.749242\n",
      "Name: userscore, dtype: float64\n"
     ]
    },
    {
     "data": {
      "text/plain": [
       "<matplotlib.axes._subplots.AxesSubplot at 0x7fbec4ef8110>"
      ]
     },
     "execution_count": 26,
     "metadata": {},
     "output_type": "execute_result"
    },
    {
     "data": {
      "image/png": "[encoded data removed]",
      "text/plain": [
       "<matplotlib.figure.Figure at 0x7fbef7470c90>"
      ]
     },
     "metadata": {},
     "output_type": "display_data"
    }
   ],
   "source": [
    "print grouped['userscore'].mean()\n",
    "grouped['userscore'].mean().plot(kind= 'bar')"
   ]
  },
  {
   "cell_type": "code",
   "execution_count": 27,
   "metadata": {},
   "outputs": [
    {
     "name": "stdout",
     "output_type": "stream",
     "text": [
      "status\n",
      "early access       76.521739\n",
      "ex early access    76.267889\n",
      "full release       77.843372\n",
      "Name: userscore, dtype: float64\n"
     ]
    },
    {
     "data": {
      "text/plain": [
       "<matplotlib.axes._subplots.AxesSubplot at 0x7fbec4e42a50>"
      ]
     },
     "execution_count": 27,
     "metadata": {},
     "output_type": "execute_result"
    },
    {
     "data": {
      "image/png": "[encoded data removed]",
      "text/plain": [
       "<matplotlib.figure.Figure at 0x7fbec4c273d0>"
      ]
     },
     "metadata": {},
     "output_type": "display_data"
    }
   ],
   "source": [
    "print grouped['userscore'].median()\n",
    "grouped['userscore'].median().plot(kind= 'bar')"
   ]
  },
  {
   "cell_type": "markdown",
   "metadata": {},
   "source": [
    "Average Price Comparison"
   ]
  },
  {
   "cell_type": "code",
   "execution_count": 31,
   "metadata": {},
   "outputs": [
    {
     "name": "stdout",
     "output_type": "stream",
     "text": [
      "status\n",
      "early access       1029.074197\n",
      "ex early access    1001.372068\n",
      "full release        863.687966\n",
      "Name: price, dtype: float64\n",
      "status\n",
      "early access       999\n",
      "ex early access    799\n",
      "full release       499\n",
      "Name: price, dtype: int64\n"
     ]
    },
    {
     "data": {
      "text/plain": [
       "<matplotlib.axes._subplots.AxesSubplot at 0x7fbec52da750>"
      ]
     },
     "execution_count": 31,
     "metadata": {},
     "output_type": "execute_result"
    },
    {
     "data": {
      "image/png": "[encoded data removed]",
      "text/plain": [
       "<matplotlib.figure.Figure at 0x7fbec7b868d0>"
      ]
     },
     "metadata": {},
     "output_type": "display_data"
    }
   ],
   "source": [
    "print grouped['price'].mean()\n",
    "print grouped['price'].median()\n",
    "grouped['price'].mean().plot(kind= 'bar')"
   ]
  },
  {
   "cell_type": "code",
   "execution_count": 32,
   "metadata": {
    "scrolled": true
   },
   "outputs": [
    {
     "data": {
      "image/png": "[encoded data removed]",
      "text/plain": [
       "<matplotlib.figure.Figure at 0x7fbec43feed0>"
      ]
     },
     "metadata": {},
     "output_type": "display_data"
    }
   ],
   "source": [
    "fig = early.userscore.plot(kind = 'kde', color = 'blue')\n",
    "early.userscore.plot(kind = 'hist', normed = True, color = 'green')\n",
    "fig.set_facecolor('#231f20')\n",
    "fig.xaxis.label.set_color('white')\n",
    "fig.yaxis.label.set_color('white')\n",
    "fig.tick_params(axis='x', colors='white')\n",
    "fig.tick_params(axis='y', colors='white')"
   ]
  },
  {
   "cell_type": "code",
   "execution_count": 30,
   "metadata": {},
   "outputs": [
    {
     "data": {
      "text/plain": [
       "<matplotlib.axes._subplots.AxesSubplot at 0x7fbec46ce790>"
      ]
     },
     "execution_count": 30,
     "metadata": {},
     "output_type": "execute_result"
    },
    {
     "data": {
      "image/png": "[encoded data removed]",
      "text/plain": [
       "<matplotlib.figure.Figure at 0x7fbec54f6850>"
      ]
     },
     "metadata": {},
     "output_type": "display_data"
    }
   ],
   "source": [
    "grouped = games.groupby('status')\n",
    "grouped['userscore'].mean().plot( kind = 'bar')"
   ]
  },
  {
   "cell_type": "code",
   "execution_count": 34,
   "metadata": {},
   "outputs": [
    {
     "data": {
      "text/plain": [
       "<matplotlib.axes._subplots.AxesSubplot at 0x7fbec46f5350>"
      ]
     },
     "execution_count": 34,
     "metadata": {},
     "output_type": "execute_result"
    },
    {
     "data": {
      "image/png": "[encoded data removed]",
      "text/plain": [
       "<matplotlib.figure.Figure at 0x7fbec35ca050>"
      ]
     },
     "metadata": {},
     "output_type": "display_data"
    }
   ],
   "source": [
    "games.plot(kind = 'scatter', x = 'owners', y = 'userscore')"
   ]
  },
  {
   "cell_type": "code",
   "execution_count": 35,
   "metadata": {},
   "outputs": [
    {
     "name": "stdout",
     "output_type": "stream",
     "text": [
      "status\n",
      "early access       175798.017719\n",
      "ex early access    262973.780384\n",
      "full release       273918.450479\n",
      "Name: owners, dtype: float64\n",
      "status\n",
      "early access       11876\n",
      "ex early access    22887\n",
      "full release       40083\n",
      "Name: owners, dtype: int64\n"
     ]
    }
   ],
   "source": [
    "print grouped['owners'].mean()\n",
    "print grouped['owners'].median()"
   ]
  },
  {
   "cell_type": "code",
   "execution_count": 37,
   "metadata": {
    "scrolled": true
   },
   "outputs": [
    {
     "name": "stdout",
     "output_type": "stream",
     "text": [
      "status\n",
      "early access       145746.522702\n",
      "ex early access    194657.852878\n",
      "full release       178717.919276\n",
      "Name: players_forever, dtype: float64\n",
      "status\n",
      "early access        7423\n",
      "ex early access    14846\n",
      "full release       19794\n",
      "Name: players_forever, dtype: int64\n"
     ]
    }
   ],
   "source": [
    "print grouped['players_forever'].mean()\n",
    "print grouped['players_forever'].median()"
   ]
  },
  {
   "cell_type": "code",
   "execution_count": null,
   "metadata": {
    "collapsed": true
   },
   "outputs": [],
   "source": []
  }
 ],
 "metadata": {
  "kernelspec": {
   "display_name": "Python 2",
   "language": "python",
   "name": "python2"
  },
  "language_info": {
   "codemirror_mode": {
    "name": "ipython",
    "version": 2
   },
   "file_extension": ".py",
   "mimetype": "text/x-python",
   "name": "python",
   "nbconvert_exporter": "python",
   "pygments_lexer": "ipython2",
   "version": "2.7.6"
  }
 },
 "nbformat": 4,
 "nbformat_minor": 2
}
