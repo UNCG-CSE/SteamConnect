{
 "cells": [
  {
   "cell_type": "code",
   "execution_count": null,
   "metadata": {},
   "outputs": [],
   "source": [
    "import pandas as pd\n",
    "import numpy as np\n",
    "\n",
    "early_access = pd.read_csv('../data/early_access.csv')\n",
    "early_access.head()\n",
    "#pd.read_csv(file, index_col=0, parse_dates=True)"
   ]
  },
  {
   "cell_type": "code",
   "execution_count": null,
   "metadata": {},
   "outputs": [],
   "source": [
    "games = pd.read_csv('../data/games.csv')\n",
    "games.head()"
   ]
  },
  {
   "cell_type": "code",
   "execution_count": null,
   "metadata": {},
   "outputs": [],
   "source": [
    "early_access.columns = ['Rank', 'name', 'Release date', 'Price', 'Score rank(Userscore/Metascore)', 'Owners', 'Playtime(Median)', 'Developer(s)', 'Publisher(s)']\n",
    "early_access.head()"
   ]
  },
  {
   "cell_type": "code",
   "execution_count": null,
   "metadata": {},
   "outputs": [],
   "source": [
    "early_access_merged = pd.merge(games, early_access, on='name', how='inner')\n",
    "early_access_merged.head()"
   ]
  },
  {
   "cell_type": "code",
   "execution_count": null,
   "metadata": {},
   "outputs": [],
   "source": [
    "ex_early_access = pd.read_csv('../data/ex_early_access.csv')\n",
    "ex_early_access.head()"
   ]
  },
  {
   "cell_type": "code",
   "execution_count": null,
   "metadata": {},
   "outputs": [],
   "source": [
    "ex_early_access.columns = ['Rank', 'name', 'Release date', 'Price', 'Score rank(Userscore/Metascore)', 'Owners', 'Players', 'Playtime(Median)', 'Developer(s)', 'Publisher(s)']\n",
    "ex_early_access.head()"
   ]
  },
  {
   "cell_type": "code",
   "execution_count": null,
   "metadata": {},
   "outputs": [],
   "source": [
    "ex_early_access_merged = pd.merge(games, ex_early_access, on='name', how='inner')\n",
    "ex_early_access_merged.head()"
   ]
  },
  {
   "cell_type": "markdown",
   "metadata": {},
   "source": [
    "### Added the column for 'is early access' and set values to True or False respectively. Combined the tables, early_access_merged with ex_early_access_merged to have all the info in one table"
   ]
  },
  {
   "cell_type": "code",
   "execution_count": null,
   "metadata": {
    "scrolled": true
   },
   "outputs": [],
   "source": [
    "early_access_merged['is early access?'] = True\n",
    "ex_early_access_merged['is early access?'] = False\n",
    "\n",
    "full_table = pd.merge(early_access_merged, ex_early_access_merged, how='outer')\n",
    "full_table.to_pickle('../data/early_access pickle')\n",
    "full_table.head()"
   ]
  },
  {
   "cell_type": "code",
   "execution_count": null,
   "metadata": {},
   "outputs": [],
   "source": [
    "# Changed NaN in release date for early access to not released because the game is not released yet\n",
    "full_table['Release date'].fillna('Not released', inplace=True)\n",
    "full_table.head()"
   ]
  },
  {
   "cell_type": "markdown",
   "metadata": {},
   "source": [
    "### For clarity sake, I just put in the conversions on price for the full table because that is the table that we will use since it has information on if the game is currently early access or not"
   ]
  },
  {
   "cell_type": "code",
   "execution_count": null,
   "metadata": {},
   "outputs": [],
   "source": [
    "#In the Price column, the $ sign was removed and made Free into 0 so that it would be easier to manipulate data\n",
    "ex_early_access_merged['Price'] = ex_early_access_merged['Price'].str.replace('$', '')\n",
    "ex_early_access_merged['Price'] = ex_early_access_merged['Price'].str.replace('Free', '0')"
   ]
  },
  {
   "cell_type": "code",
   "execution_count": null,
   "metadata": {},
   "outputs": [],
   "source": [
    "full_table['Price'] = full_table['Price'].str.replace('$', '')\n",
    "full_table['Price'] = full_table['Price'].str.replace('Free', '0')"
   ]
  },
  {
   "cell_type": "code",
   "execution_count": null,
   "metadata": {},
   "outputs": [],
   "source": [
    "#Converting all values in Price column into numeric values \n",
    "ex_early_access_merged['Price'] = pd.to_numeric(ex_early_access_merged['Price'], errors='coerce')\n",
    "print ex_early_access_merged['Price'].head()"
   ]
  },
  {
   "cell_type": "code",
   "execution_count": null,
   "metadata": {},
   "outputs": [],
   "source": [
    "full_table['Price'] = pd.to_numeric(ex_early_access_merged['Price'], errors='coerce')\n",
    "print full_table['Price'].head()"
   ]
  },
  {
   "cell_type": "code",
   "execution_count": null,
   "metadata": {},
   "outputs": [],
   "source": [
    "#ex_early_access_merged"
   ]
  },
  {
   "cell_type": "code",
   "execution_count": null,
   "metadata": {},
   "outputs": [],
   "source": [
    "#average price per game \n",
    "print ex_early_access_merged['Price'].mean()"
   ]
  },
  {
   "cell_type": "code",
   "execution_count": null,
   "metadata": {},
   "outputs": [],
   "source": [
    "print full_table['Price'].mean()"
   ]
  },
  {
   "cell_type": "code",
   "execution_count": null,
   "metadata": {},
   "outputs": [],
   "source": [
    "ex_early_access_merged['Rank'].replace('',np.NaN) #replaces blank with NaN\n",
    "ex_early_access_merged['Rank'].max() #highest rank seems to be 1043"
   ]
  },
  {
   "cell_type": "code",
   "execution_count": null,
   "metadata": {},
   "outputs": [],
   "source": [
    "full_table['Rank'].replace('',np.NaN) #replaces blank with NaN\n",
    "full_table['Rank'].max() #highest rank seems to be 1574"
   ]
  },
  {
   "cell_type": "code",
   "execution_count": null,
   "metadata": {},
   "outputs": [],
   "source": [
    "ex_early_access_merged['Rank'].median() #checking to make sure it gives back a number"
   ]
  },
  {
   "cell_type": "code",
   "execution_count": null,
   "metadata": {},
   "outputs": [],
   "source": [
    "# seems the most expensive game is $65, I would think there would be a game more expensive than 65 bucks.\n",
    "ex_early_access_merged['Price'].max() "
   ]
  },
  {
   "cell_type": "code",
   "execution_count": null,
   "metadata": {},
   "outputs": [],
   "source": [
    "full_table['Price'].max() "
   ]
  },
  {
   "cell_type": "code",
   "execution_count": null,
   "metadata": {},
   "outputs": [],
   "source": [
    "import matplotlib.pyplot as plt"
   ]
  },
  {
   "cell_type": "code",
   "execution_count": null,
   "metadata": {},
   "outputs": [],
   "source": [
    "# This graph shows distribution of price of games in our data set \n",
    "bins= [0,1,5,10,20,30,40,50,65]\n",
    "plt.hist(ex_early_access_merged.Price, bins=bins, color=\"y\")\n",
    "plt.xticks(bins)\n",
    "plt.show() "
   ]
  },
  {
   "cell_type": "code",
   "execution_count": null,
   "metadata": {},
   "outputs": [],
   "source": [
    "ex_early_access_merged['year'] = ex_early_access_merged['Release date'].str.split(',').str[1]\n",
    "ex_early_access_merged.head()"
   ]
  },
  {
   "cell_type": "code",
   "execution_count": null,
   "metadata": {},
   "outputs": [],
   "source": [
    "full_table['year'] = full_table['Release date'].str.split(',').str[1]\n",
    "full_table['year'].fillna('Not released', inplace=True)\n",
    "full_table.head()"
   ]
  },
  {
   "cell_type": "markdown",
   "metadata": {},
   "source": [
    "# Writing full table to a csv file to be used"
   ]
  },
  {
   "cell_type": "code",
   "execution_count": null,
   "metadata": {},
   "outputs": [],
   "source": [
    "full_table.to_csv('../data/full_table')"
   ]
  },
  {
   "cell_type": "code",
   "execution_count": null,
   "metadata": {},
   "outputs": [],
   "source": [
    "dff2 = ex_early_access_merged[['Score rank(Userscore/Metascore)', 'year']]\n",
    "dff2.head()"
   ]
  },
  {
   "cell_type": "code",
   "execution_count": null,
   "metadata": {},
   "outputs": [],
   "source": [
    "#Converting all values in year column into numeric values \n",
    "dff2['year'] = pd.to_numeric(dff2['year'], errors='coerce')\n",
    "dff2.head()"
   ]
  },
  {
   "cell_type": "code",
   "execution_count": null,
   "metadata": {},
   "outputs": [],
   "source": [
    "dff2['Score (%)'] = dff2['Score rank(Userscore/Metascore)'].str.split('%').str[0]\n",
    "dff2['Score (%)'] = dff2['Score rank(Userscore/Metascore)'].str.split('(').str[0]\n",
    "dff3 = dff2[['Score (%)','year']]\n",
    "dff3['Score (%)'] = dff3['Score (%)'].str.replace('N/A', '0')\n",
    "dff3['Score (%)'] = dff3['Score (%)'].str.replace('%', '')\n",
    "dff3['Score (%)'] = pd.to_numeric(dff3['Score (%)'], errors='coerce')\n",
    "dff3[(dff3 != 0).all(1)].head()"
   ]
  },
  {
   "cell_type": "markdown",
   "metadata": {},
   "source": [
    "# New data set to be worked with\n",
    "\n",
    "### Went ahead and wrote both early and ex early access to csv files"
   ]
  },
  {
   "cell_type": "code",
   "execution_count": 1,
   "metadata": {},
   "outputs": [],
   "source": [
    "import pandas as pd\n",
    "import numpy as np\n",
    "import matplotlib.pyplot as plt\n",
    "import sys\n",
    "%matplotlib inline\n",
    "reload(sys)\n",
    "sys.setdefaultencoding('utf-8')\n",
    "\n",
    "import seaborn as sns\n",
    "sns.set(color_codes=True)"
   ]
  },
  {
   "cell_type": "code",
   "execution_count": 2,
   "metadata": {},
   "outputs": [
    {
     "data": {
      "text/html": [
       "<div>\n",
       "<table border=\"1\" class=\"dataframe\">\n",
       "  <thead>\n",
       "    <tr style=\"text-align: right;\">\n",
       "      <th></th>\n",
       "      <th>appid</th>\n",
       "      <th>average_2weeks</th>\n",
       "      <th>average_forever</th>\n",
       "      <th>developer</th>\n",
       "      <th>median_2weeks</th>\n",
       "      <th>median_forever</th>\n",
       "      <th>name</th>\n",
       "      <th>negative</th>\n",
       "      <th>owners</th>\n",
       "      <th>owners_variance</th>\n",
       "      <th>players_2weeks</th>\n",
       "      <th>players_2weeks_variance</th>\n",
       "      <th>players_forever</th>\n",
       "      <th>players_forever_variance</th>\n",
       "      <th>positive</th>\n",
       "      <th>price</th>\n",
       "      <th>publisher</th>\n",
       "      <th>score_rank</th>\n",
       "      <th>userscore</th>\n",
       "    </tr>\n",
       "  </thead>\n",
       "  <tbody>\n",
       "    <tr>\n",
       "      <th>108600</th>\n",
       "      <td>108600</td>\n",
       "      <td>276</td>\n",
       "      <td>1260</td>\n",
       "      <td>The Indie Stone</td>\n",
       "      <td>88</td>\n",
       "      <td>362</td>\n",
       "      <td>Project Zomboid</td>\n",
       "      <td>2007</td>\n",
       "      <td>872921</td>\n",
       "      <td>28720</td>\n",
       "      <td>34145</td>\n",
       "      <td>5685</td>\n",
       "      <td>829126</td>\n",
       "      <td>27992</td>\n",
       "      <td>14127</td>\n",
       "      <td>1499</td>\n",
       "      <td>The Indie Stone</td>\n",
       "      <td>64</td>\n",
       "      <td>87</td>\n",
       "    </tr>\n",
       "    <tr>\n",
       "      <th>15540</th>\n",
       "      <td>15540</td>\n",
       "      <td>0</td>\n",
       "      <td>130</td>\n",
       "      <td>Dejobaan Games, LLC</td>\n",
       "      <td>0</td>\n",
       "      <td>36</td>\n",
       "      <td>1... 2... 3... KICK IT! (Drop That Beat Like a...</td>\n",
       "      <td>307</td>\n",
       "      <td>98476</td>\n",
       "      <td>9654</td>\n",
       "      <td>0</td>\n",
       "      <td>0</td>\n",
       "      <td>73238</td>\n",
       "      <td>8325</td>\n",
       "      <td>145</td>\n",
       "      <td>999</td>\n",
       "      <td>Dejobaan Games, LLC</td>\n",
       "      <td>2</td>\n",
       "      <td>31</td>\n",
       "    </tr>\n",
       "    <tr>\n",
       "      <th>206500</th>\n",
       "      <td>206500</td>\n",
       "      <td>71</td>\n",
       "      <td>572</td>\n",
       "      <td>Carbon Games</td>\n",
       "      <td>26</td>\n",
       "      <td>88</td>\n",
       "      <td>AirMech Strike</td>\n",
       "      <td>1102</td>\n",
       "      <td>1513013</td>\n",
       "      <td>37786</td>\n",
       "      <td>9897</td>\n",
       "      <td>3060</td>\n",
       "      <td>985995</td>\n",
       "      <td>30520</td>\n",
       "      <td>6845</td>\n",
       "      <td>0</td>\n",
       "      <td>Carbon Games</td>\n",
       "      <td>61</td>\n",
       "      <td>86</td>\n",
       "    </tr>\n",
       "    <tr>\n",
       "      <th>215830</th>\n",
       "      <td>215830</td>\n",
       "      <td>846</td>\n",
       "      <td>887</td>\n",
       "      <td>Naddic Games</td>\n",
       "      <td>576</td>\n",
       "      <td>675</td>\n",
       "      <td>Closers</td>\n",
       "      <td>15</td>\n",
       "      <td>4206</td>\n",
       "      <td>1995</td>\n",
       "      <td>4206</td>\n",
       "      <td>1995</td>\n",
       "      <td>4206</td>\n",
       "      <td>1995</td>\n",
       "      <td>90</td>\n",
       "      <td>1499</td>\n",
       "      <td>En Masse Entertainment</td>\n",
       "      <td>58</td>\n",
       "      <td>85</td>\n",
       "    </tr>\n",
       "    <tr>\n",
       "      <th>217120</th>\n",
       "      <td>217120</td>\n",
       "      <td>0</td>\n",
       "      <td>5268</td>\n",
       "      <td>Squid In A Box Ltd</td>\n",
       "      <td>0</td>\n",
       "      <td>5298</td>\n",
       "      <td>Waves 2</td>\n",
       "      <td>4</td>\n",
       "      <td>1979</td>\n",
       "      <td>1368</td>\n",
       "      <td>0</td>\n",
       "      <td>0</td>\n",
       "      <td>1979</td>\n",
       "      <td>1368</td>\n",
       "      <td>46</td>\n",
       "      <td>999</td>\n",
       "      <td>Squid In A Box Ltd</td>\n",
       "      <td>81</td>\n",
       "      <td>91</td>\n",
       "    </tr>\n",
       "  </tbody>\n",
       "</table>\n",
       "</div>"
      ],
      "text/plain": [
       "         appid average_2weeks average_forever            developer  \\\n",
       "108600  108600            276            1260      The Indie Stone   \n",
       "15540    15540              0             130  Dejobaan Games, LLC   \n",
       "206500  206500             71             572         Carbon Games   \n",
       "215830  215830            846             887         Naddic Games   \n",
       "217120  217120              0            5268   Squid In A Box Ltd   \n",
       "\n",
       "       median_2weeks median_forever  \\\n",
       "108600            88            362   \n",
       "15540              0             36   \n",
       "206500            26             88   \n",
       "215830           576            675   \n",
       "217120             0           5298   \n",
       "\n",
       "                                                     name negative   owners  \\\n",
       "108600                                    Project Zomboid     2007   872921   \n",
       "15540   1... 2... 3... KICK IT! (Drop That Beat Like a...      307    98476   \n",
       "206500                                     AirMech Strike     1102  1513013   \n",
       "215830                                            Closers       15     4206   \n",
       "217120                                            Waves 2        4     1979   \n",
       "\n",
       "       owners_variance players_2weeks players_2weeks_variance players_forever  \\\n",
       "108600           28720          34145                    5685          829126   \n",
       "15540             9654              0                       0           73238   \n",
       "206500           37786           9897                    3060          985995   \n",
       "215830            1995           4206                    1995            4206   \n",
       "217120            1368              0                       0            1979   \n",
       "\n",
       "       players_forever_variance positive price               publisher  \\\n",
       "108600                    27992    14127  1499         The Indie Stone   \n",
       "15540                      8325      145   999     Dejobaan Games, LLC   \n",
       "206500                    30520     6845     0            Carbon Games   \n",
       "215830                     1995       90  1499  En Masse Entertainment   \n",
       "217120                     1368       46   999      Squid In A Box Ltd   \n",
       "\n",
       "       score_rank userscore  \n",
       "108600         64        87  \n",
       "15540           2        31  \n",
       "206500         61        86  \n",
       "215830         58        85  \n",
       "217120         81        91  "
      ]
     },
     "execution_count": 2,
     "metadata": {},
     "output_type": "execute_result"
    }
   ],
   "source": [
    "new_early_access = pd.read_json('../data/early_access.json').transpose()\n",
    "new_early_access.to_csv('../data/new_early_access')\n",
    "new_early_access.head()"
   ]
  },
  {
   "cell_type": "code",
   "execution_count": 3,
   "metadata": {},
   "outputs": [
    {
     "data": {
      "text/html": [
       "<div>\n",
       "<table border=\"1\" class=\"dataframe\">\n",
       "  <thead>\n",
       "    <tr style=\"text-align: right;\">\n",
       "      <th></th>\n",
       "      <th>appid</th>\n",
       "      <th>average_2weeks</th>\n",
       "      <th>average_forever</th>\n",
       "      <th>developer</th>\n",
       "      <th>median_2weeks</th>\n",
       "      <th>median_forever</th>\n",
       "      <th>name</th>\n",
       "      <th>negative</th>\n",
       "      <th>owners</th>\n",
       "      <th>owners_variance</th>\n",
       "      <th>players_2weeks</th>\n",
       "      <th>players_2weeks_variance</th>\n",
       "      <th>players_forever</th>\n",
       "      <th>players_forever_variance</th>\n",
       "      <th>positive</th>\n",
       "      <th>price</th>\n",
       "      <th>publisher</th>\n",
       "      <th>score_rank</th>\n",
       "      <th>userscore</th>\n",
       "    </tr>\n",
       "  </thead>\n",
       "  <tbody>\n",
       "    <tr>\n",
       "      <th>107410</th>\n",
       "      <td>107410</td>\n",
       "      <td>857</td>\n",
       "      <td>11409</td>\n",
       "      <td>Bohemia Interactive</td>\n",
       "      <td>260</td>\n",
       "      <td>1992</td>\n",
       "      <td>Arma 3</td>\n",
       "      <td>9371</td>\n",
       "      <td>3647315</td>\n",
       "      <td>58538</td>\n",
       "      <td>436955</td>\n",
       "      <td>20329</td>\n",
       "      <td>3538200</td>\n",
       "      <td>57662</td>\n",
       "      <td>87484</td>\n",
       "      <td>3999</td>\n",
       "      <td>Bohemia Interactive</td>\n",
       "      <td>74</td>\n",
       "      <td>90</td>\n",
       "    </tr>\n",
       "    <tr>\n",
       "      <th>200110</th>\n",
       "      <td>200110</td>\n",
       "      <td>41</td>\n",
       "      <td>416</td>\n",
       "      <td>Psyonix</td>\n",
       "      <td>78</td>\n",
       "      <td>59</td>\n",
       "      <td>Nosgoth</td>\n",
       "      <td>3860</td>\n",
       "      <td>4309676</td>\n",
       "      <td>63588</td>\n",
       "      <td>1732</td>\n",
       "      <td>1280</td>\n",
       "      <td>2307253</td>\n",
       "      <td>46623</td>\n",
       "      <td>11015</td>\n",
       "      <td>0</td>\n",
       "      <td>Square Enix</td>\n",
       "      <td></td>\n",
       "      <td>0</td>\n",
       "    </tr>\n",
       "    <tr>\n",
       "      <th>200150</th>\n",
       "      <td>200150</td>\n",
       "      <td>128</td>\n",
       "      <td>467</td>\n",
       "      <td>Olde Sküül, Sculptured Software</td>\n",
       "      <td>163</td>\n",
       "      <td>353</td>\n",
       "      <td>Battle Chess: Game of Kings</td>\n",
       "      <td>95</td>\n",
       "      <td>8907</td>\n",
       "      <td>2903</td>\n",
       "      <td>1484</td>\n",
       "      <td>2055</td>\n",
       "      <td>8165</td>\n",
       "      <td>2780</td>\n",
       "      <td>88</td>\n",
       "      <td>2999</td>\n",
       "      <td>Interplay Entertainment Corp.</td>\n",
       "      <td>8</td>\n",
       "      <td>47</td>\n",
       "    </tr>\n",
       "    <tr>\n",
       "      <th>202090</th>\n",
       "      <td>202090</td>\n",
       "      <td>1</td>\n",
       "      <td>217</td>\n",
       "      <td>Paradox North</td>\n",
       "      <td>1</td>\n",
       "      <td>49</td>\n",
       "      <td>Magicka: Wizard Wars</td>\n",
       "      <td>1708</td>\n",
       "      <td>3587190</td>\n",
       "      <td>58057</td>\n",
       "      <td>1480</td>\n",
       "      <td>1448</td>\n",
       "      <td>1944278</td>\n",
       "      <td>42815</td>\n",
       "      <td>9721</td>\n",
       "      <td>0</td>\n",
       "      <td>Paradox Interactive</td>\n",
       "      <td></td>\n",
       "      <td>0</td>\n",
       "    </tr>\n",
       "    <tr>\n",
       "      <th>207140</th>\n",
       "      <td>207140</td>\n",
       "      <td>137</td>\n",
       "      <td>742</td>\n",
       "      <td>DoubleDutch Games</td>\n",
       "      <td>35</td>\n",
       "      <td>258</td>\n",
       "      <td>SpeedRunners</td>\n",
       "      <td>1254</td>\n",
       "      <td>1630788</td>\n",
       "      <td>39225</td>\n",
       "      <td>64826</td>\n",
       "      <td>7833</td>\n",
       "      <td>1409094</td>\n",
       "      <td>36470</td>\n",
       "      <td>19003</td>\n",
       "      <td>1499</td>\n",
       "      <td>tinyBuild</td>\n",
       "      <td>85</td>\n",
       "      <td>94</td>\n",
       "    </tr>\n",
       "  </tbody>\n",
       "</table>\n",
       "</div>"
      ],
      "text/plain": [
       "         appid average_2weeks average_forever  \\\n",
       "107410  107410            857           11409   \n",
       "200110  200110             41             416   \n",
       "200150  200150            128             467   \n",
       "202090  202090              1             217   \n",
       "207140  207140            137             742   \n",
       "\n",
       "                              developer median_2weeks median_forever  \\\n",
       "107410              Bohemia Interactive           260           1992   \n",
       "200110                          Psyonix            78             59   \n",
       "200150  Olde Sküül, Sculptured Software           163            353   \n",
       "202090                    Paradox North             1             49   \n",
       "207140                DoubleDutch Games            35            258   \n",
       "\n",
       "                               name negative   owners owners_variance  \\\n",
       "107410                       Arma 3     9371  3647315           58538   \n",
       "200110                      Nosgoth     3860  4309676           63588   \n",
       "200150  Battle Chess: Game of Kings       95     8907            2903   \n",
       "202090         Magicka: Wizard Wars     1708  3587190           58057   \n",
       "207140                 SpeedRunners     1254  1630788           39225   \n",
       "\n",
       "       players_2weeks players_2weeks_variance players_forever  \\\n",
       "107410         436955                   20329         3538200   \n",
       "200110           1732                    1280         2307253   \n",
       "200150           1484                    2055            8165   \n",
       "202090           1480                    1448         1944278   \n",
       "207140          64826                    7833         1409094   \n",
       "\n",
       "       players_forever_variance positive price                      publisher  \\\n",
       "107410                    57662    87484  3999            Bohemia Interactive   \n",
       "200110                    46623    11015     0                    Square Enix   \n",
       "200150                     2780       88  2999  Interplay Entertainment Corp.   \n",
       "202090                    42815     9721     0            Paradox Interactive   \n",
       "207140                    36470    19003  1499                      tinyBuild   \n",
       "\n",
       "       score_rank userscore  \n",
       "107410         74        90  \n",
       "200110                    0  \n",
       "200150          8        47  \n",
       "202090                    0  \n",
       "207140         85        94  "
      ]
     },
     "execution_count": 3,
     "metadata": {},
     "output_type": "execute_result"
    }
   ],
   "source": [
    "new_ex_early_access = pd.read_json('../data/ex_early_access.json').transpose()\n",
    "new_ex_early_access.to_csv('../data/new_ex_early_access.csv')\n",
    "new_ex_early_access.head()"
   ]
  },
  {
   "cell_type": "code",
   "execution_count": 4,
   "metadata": {},
   "outputs": [],
   "source": [
    "# Currently not working. We can solve or do analysis separate\n",
    "\n",
    "#new_full_table = new_early_access.merge(new_ex_early_access, how='outer')\n",
    "#new_full_table.head()"
   ]
  },
  {
   "cell_type": "code",
   "execution_count": 5,
   "metadata": {},
   "outputs": [
    {
     "data": {
      "text/plain": [
       "61.495218579234972"
      ]
     },
     "execution_count": 5,
     "metadata": {},
     "output_type": "execute_result"
    }
   ],
   "source": [
    "new_early_access.userscore.mean()"
   ]
  },
  {
   "cell_type": "code",
   "execution_count": 6,
   "metadata": {},
   "outputs": [
    {
     "data": {
      "text/plain": [
       "68.128861429832298"
      ]
     },
     "execution_count": 6,
     "metadata": {},
     "output_type": "execute_result"
    }
   ],
   "source": [
    "new_ex_early_access.userscore.mean()"
   ]
  },
  {
   "cell_type": "markdown",
   "metadata": {},
   "source": [
    "### Made a stars column to place userscores in categories. Based it on a 1-5 star rating system. 0-20 is 1 star, 21-40 is 2 star, ... , 81-100 is 5 star. In the 3 cells below is where this is done."
   ]
  },
  {
   "cell_type": "code",
   "execution_count": 7,
   "metadata": {},
   "outputs": [],
   "source": [
    "stars_early = pd.cut(new_early_access.userscore, [-1,21,41,61,81,101], \n",
    "               labels=['one star', 'two star', 'three star', 'four star', 'five star'],\n",
    "              right=False, include_lowest=True)"
   ]
  },
  {
   "cell_type": "code",
   "execution_count": 8,
   "metadata": {},
   "outputs": [],
   "source": [
    "stars_ex_early = pd.cut(new_ex_early_access.userscore, [-1,21,41,61,81,101], \n",
    "               labels=['one star', 'two star', 'three star', 'four star', 'five star'],\n",
    "              right=False, include_lowest=True)"
   ]
  },
  {
   "cell_type": "code",
   "execution_count": 9,
   "metadata": {},
   "outputs": [],
   "source": [
    "new_early_access['stars'] = stars_early\n",
    "new_ex_early_access['stars'] = stars_ex_early"
   ]
  },
  {
   "cell_type": "markdown",
   "metadata": {},
   "source": [
    "### Graph showing that the higher rated games have more owners. "
   ]
  },
  {
   "cell_type": "code",
   "execution_count": 10,
   "metadata": {},
   "outputs": [
    {
     "data": {
      "text/plain": [
       "<matplotlib.axes._subplots.AxesSubplot at 0x7fb264ff1710>"
      ]
     },
     "execution_count": 10,
     "metadata": {},
     "output_type": "execute_result"
    },
    {
     "data": {
      "image/png": "[encoded data removed]",
      "text/plain": [
       "<matplotlib.figure.Figure at 0x7fb264febbd0>"
      ]
     },
     "metadata": {},
     "output_type": "display_data"
    }
   ],
   "source": [
    "new_early_access.groupby(['stars'])['owners'].sum().plot(kind='bar')\n"
   ]
  },
  {
   "cell_type": "code",
   "execution_count": 11,
   "metadata": {},
   "outputs": [],
   "source": [
    "#This makes the price data look like real dollar values\n",
    "new_early_access['price'] = new_early_access['price'].astype(float)\n",
    "new_early_access['price'] = new_early_access['price']/100"
   ]
  },
  {
   "cell_type": "code",
   "execution_count": 12,
   "metadata": {},
   "outputs": [],
   "source": [
    "#This makes the price data look like real dollar values\n",
    "new_ex_early_access['price'] = new_ex_early_access['price'].astype(float)\n",
    "new_ex_early_access['price'] = new_ex_early_access['price']/100"
   ]
  },
  {
   "cell_type": "code",
   "execution_count": 13,
   "metadata": {},
   "outputs": [
    {
     "data": {
      "text/plain": [
       "52.5"
      ]
     },
     "execution_count": 13,
     "metadata": {},
     "output_type": "execute_result"
    }
   ],
   "source": [
    "new_early_access.price.max()"
   ]
  },
  {
   "cell_type": "code",
   "execution_count": 14,
   "metadata": {},
   "outputs": [
    {
     "data": {
      "text/plain": [
       "179.0"
      ]
     },
     "execution_count": 14,
     "metadata": {},
     "output_type": "execute_result"
    }
   ],
   "source": [
    "new_ex_early_access.price.max()"
   ]
  },
  {
   "cell_type": "markdown",
   "metadata": {},
   "source": [
    "### Was attempting to sort the values for price of the ex early access games to get a better guess on how to divide it up. I wanted to do something similar to what I did above with the star ratings.  I wanted to do a pd.cut() on the prices and display them on graphs relative to number of owners. Will get back to this, if someone else wants to help, you are more than welcome\n"
   ]
  },
  {
   "cell_type": "code",
   "execution_count": 15,
   "metadata": {},
   "outputs": [],
   "source": [
    "#new_temp = new_ex_early_access['price']\n"
   ]
  },
  {
   "cell_type": "code",
   "execution_count": 16,
   "metadata": {},
   "outputs": [],
   "source": [
    "#hold = new_temp.sort()"
   ]
  },
  {
   "cell_type": "code",
   "execution_count": 17,
   "metadata": {},
   "outputs": [],
   "source": [
    "#new_early_access.tags.head()"
   ]
  },
  {
   "cell_type": "markdown",
   "metadata": {},
   "source": [
    "### Below is where I have tested trying to look at the dataframe based on contraints. We can use this to look at data meeting certain criteria and pull out answers from that. Such as what tags exist in these games with this criteria met. Nothing below is concrete in terms of what to look for. Was just testing it out. "
   ]
  },
  {
   "cell_type": "code",
   "execution_count": 18,
   "metadata": {},
   "outputs": [
    {
     "data": {
      "text/plain": [
       "103"
      ]
     },
     "execution_count": 18,
     "metadata": {},
     "output_type": "execute_result"
    }
   ],
   "source": [
    "len(new_early_access.loc[new_early_access['userscore'] == 100])"
   ]
  },
  {
   "cell_type": "code",
   "execution_count": 19,
   "metadata": {},
   "outputs": [
    {
     "data": {
      "text/plain": [
       "242610                            Grappledrome\n",
       "302810    Divinia Chronicles: Relics of Gan-Ti\n",
       "312310                                Ensign-1\n",
       "314350                                 Abatron\n",
       "339560                               Man Alive\n",
       "Name: name, dtype: object"
      ]
     },
     "execution_count": 19,
     "metadata": {},
     "output_type": "execute_result"
    }
   ],
   "source": [
    "new_early_access.loc[new_early_access['userscore'] == 100].name.head()"
   ]
  },
  {
   "cell_type": "code",
   "execution_count": 20,
   "metadata": {},
   "outputs": [],
   "source": [
    "total_early_reviews = new_early_access['negative'] + new_early_access['positive']"
   ]
  },
  {
   "cell_type": "code",
   "execution_count": 21,
   "metadata": {},
   "outputs": [],
   "source": [
    "new_early_access['total_reviews'] = total_early_reviews"
   ]
  },
  {
   "cell_type": "code",
   "execution_count": 22,
   "metadata": {},
   "outputs": [
    {
     "data": {
      "text/html": [
       "<div>\n",
       "<table border=\"1\" class=\"dataframe\">\n",
       "  <thead>\n",
       "    <tr style=\"text-align: right;\">\n",
       "      <th></th>\n",
       "      <th>appid</th>\n",
       "      <th>average_2weeks</th>\n",
       "      <th>average_forever</th>\n",
       "      <th>developer</th>\n",
       "      <th>median_2weeks</th>\n",
       "      <th>median_forever</th>\n",
       "      <th>name</th>\n",
       "      <th>negative</th>\n",
       "      <th>owners</th>\n",
       "      <th>owners_variance</th>\n",
       "      <th>...</th>\n",
       "      <th>players_2weeks_variance</th>\n",
       "      <th>players_forever</th>\n",
       "      <th>players_forever_variance</th>\n",
       "      <th>positive</th>\n",
       "      <th>price</th>\n",
       "      <th>publisher</th>\n",
       "      <th>score_rank</th>\n",
       "      <th>userscore</th>\n",
       "      <th>stars</th>\n",
       "      <th>total_reviews</th>\n",
       "    </tr>\n",
       "  </thead>\n",
       "  <tbody>\n",
       "    <tr>\n",
       "      <th>242610</th>\n",
       "      <td>242610</td>\n",
       "      <td>0</td>\n",
       "      <td>4495</td>\n",
       "      <td>800 North</td>\n",
       "      <td>0</td>\n",
       "      <td>4495</td>\n",
       "      <td>Grappledrome</td>\n",
       "      <td>2</td>\n",
       "      <td>6928</td>\n",
       "      <td>2560</td>\n",
       "      <td>...</td>\n",
       "      <td>0</td>\n",
       "      <td>738</td>\n",
       "      <td>1444</td>\n",
       "      <td>19</td>\n",
       "      <td>9.99</td>\n",
       "      <td>800 North</td>\n",
       "      <td>74</td>\n",
       "      <td>100</td>\n",
       "      <td>five star</td>\n",
       "      <td>21</td>\n",
       "    </tr>\n",
       "    <tr>\n",
       "      <th>302810</th>\n",
       "      <td>302810</td>\n",
       "      <td>0</td>\n",
       "      <td>85</td>\n",
       "      <td>Team Monkey</td>\n",
       "      <td>0</td>\n",
       "      <td>119</td>\n",
       "      <td>Divinia Chronicles: Relics of Gan-Ti</td>\n",
       "      <td>3</td>\n",
       "      <td>5691</td>\n",
       "      <td>2321</td>\n",
       "      <td>...</td>\n",
       "      <td>0</td>\n",
       "      <td>2242</td>\n",
       "      <td>2534</td>\n",
       "      <td>28</td>\n",
       "      <td>14.99</td>\n",
       "      <td>Team Monkey</td>\n",
       "      <td>74</td>\n",
       "      <td>100</td>\n",
       "      <td>five star</td>\n",
       "      <td>31</td>\n",
       "    </tr>\n",
       "    <tr>\n",
       "      <th>312310</th>\n",
       "      <td>312310</td>\n",
       "      <td>0</td>\n",
       "      <td>17</td>\n",
       "      <td>Only Human Studios</td>\n",
       "      <td>0</td>\n",
       "      <td>28</td>\n",
       "      <td>Ensign-1</td>\n",
       "      <td>7</td>\n",
       "      <td>8907</td>\n",
       "      <td>2903</td>\n",
       "      <td>...</td>\n",
       "      <td>0</td>\n",
       "      <td>1494</td>\n",
       "      <td>2069</td>\n",
       "      <td>4</td>\n",
       "      <td>1.99</td>\n",
       "      <td>Only Human Studios</td>\n",
       "      <td>3</td>\n",
       "      <td>100</td>\n",
       "      <td>five star</td>\n",
       "      <td>11</td>\n",
       "    </tr>\n",
       "    <tr>\n",
       "      <th>314350</th>\n",
       "      <td>314350</td>\n",
       "      <td>0</td>\n",
       "      <td>0</td>\n",
       "      <td>W3 Studios</td>\n",
       "      <td>0</td>\n",
       "      <td>0</td>\n",
       "      <td>Abatron</td>\n",
       "      <td>0</td>\n",
       "      <td>747</td>\n",
       "      <td>1463</td>\n",
       "      <td>...</td>\n",
       "      <td>0</td>\n",
       "      <td>0</td>\n",
       "      <td>0</td>\n",
       "      <td>6</td>\n",
       "      <td>19.99</td>\n",
       "      <td>W3 Studios</td>\n",
       "      <td>100</td>\n",
       "      <td>100</td>\n",
       "      <td>five star</td>\n",
       "      <td>6</td>\n",
       "    </tr>\n",
       "    <tr>\n",
       "      <th>339560</th>\n",
       "      <td>339560</td>\n",
       "      <td>0</td>\n",
       "      <td>11</td>\n",
       "      <td>Global Empire Soft</td>\n",
       "      <td>0</td>\n",
       "      <td>11</td>\n",
       "      <td>Man Alive</td>\n",
       "      <td>11</td>\n",
       "      <td>6186</td>\n",
       "      <td>2419</td>\n",
       "      <td>...</td>\n",
       "      <td>0</td>\n",
       "      <td>747</td>\n",
       "      <td>1463</td>\n",
       "      <td>6</td>\n",
       "      <td>4.99</td>\n",
       "      <td>Global Empire Soft</td>\n",
       "      <td>3</td>\n",
       "      <td>100</td>\n",
       "      <td>five star</td>\n",
       "      <td>17</td>\n",
       "    </tr>\n",
       "  </tbody>\n",
       "</table>\n",
       "<p>5 rows × 21 columns</p>\n",
       "</div>"
      ],
      "text/plain": [
       "         appid average_2weeks average_forever           developer  \\\n",
       "242610  242610              0            4495           800 North   \n",
       "302810  302810              0              85         Team Monkey   \n",
       "312310  312310              0              17  Only Human Studios   \n",
       "314350  314350              0               0          W3 Studios   \n",
       "339560  339560              0              11  Global Empire Soft   \n",
       "\n",
       "       median_2weeks median_forever                                  name  \\\n",
       "242610             0           4495                          Grappledrome   \n",
       "302810             0            119  Divinia Chronicles: Relics of Gan-Ti   \n",
       "312310             0             28                              Ensign-1   \n",
       "314350             0              0                               Abatron   \n",
       "339560             0             11                             Man Alive   \n",
       "\n",
       "       negative owners owners_variance      ...      players_2weeks_variance  \\\n",
       "242610        2   6928            2560      ...                            0   \n",
       "302810        3   5691            2321      ...                            0   \n",
       "312310        7   8907            2903      ...                            0   \n",
       "314350        0    747            1463      ...                            0   \n",
       "339560       11   6186            2419      ...                            0   \n",
       "\n",
       "       players_forever players_forever_variance positive  price  \\\n",
       "242610             738                     1444       19   9.99   \n",
       "302810            2242                     2534       28  14.99   \n",
       "312310            1494                     2069        4   1.99   \n",
       "314350               0                        0        6  19.99   \n",
       "339560             747                     1463        6   4.99   \n",
       "\n",
       "                 publisher score_rank userscore      stars total_reviews  \n",
       "242610           800 North         74       100  five star            21  \n",
       "302810         Team Monkey         74       100  five star            31  \n",
       "312310  Only Human Studios          3       100  five star            11  \n",
       "314350          W3 Studios        100       100  five star             6  \n",
       "339560  Global Empire Soft          3       100  five star            17  \n",
       "\n",
       "[5 rows x 21 columns]"
      ]
     },
     "execution_count": 22,
     "metadata": {},
     "output_type": "execute_result"
    }
   ],
   "source": [
    "new_early_access.loc[new_early_access['userscore'] >= 100].head()"
   ]
  },
  {
   "cell_type": "code",
   "execution_count": 23,
   "metadata": {},
   "outputs": [
    {
     "data": {
      "text/html": [
       "<div>\n",
       "<table border=\"1\" class=\"dataframe\">\n",
       "  <thead>\n",
       "    <tr style=\"text-align: right;\">\n",
       "      <th></th>\n",
       "      <th>appid</th>\n",
       "      <th>average_2weeks</th>\n",
       "      <th>average_forever</th>\n",
       "      <th>developer</th>\n",
       "      <th>median_2weeks</th>\n",
       "      <th>median_forever</th>\n",
       "      <th>name</th>\n",
       "      <th>negative</th>\n",
       "      <th>owners</th>\n",
       "      <th>owners_variance</th>\n",
       "      <th>...</th>\n",
       "      <th>players_2weeks_variance</th>\n",
       "      <th>players_forever</th>\n",
       "      <th>players_forever_variance</th>\n",
       "      <th>positive</th>\n",
       "      <th>price</th>\n",
       "      <th>publisher</th>\n",
       "      <th>score_rank</th>\n",
       "      <th>userscore</th>\n",
       "      <th>stars</th>\n",
       "      <th>total_reviews</th>\n",
       "    </tr>\n",
       "  </thead>\n",
       "  <tbody>\n",
       "    <tr>\n",
       "      <th>108600</th>\n",
       "      <td>108600</td>\n",
       "      <td>276</td>\n",
       "      <td>1260</td>\n",
       "      <td>The Indie Stone</td>\n",
       "      <td>88</td>\n",
       "      <td>362</td>\n",
       "      <td>Project Zomboid</td>\n",
       "      <td>2007</td>\n",
       "      <td>872921</td>\n",
       "      <td>28720</td>\n",
       "      <td>...</td>\n",
       "      <td>5685</td>\n",
       "      <td>829126</td>\n",
       "      <td>27992</td>\n",
       "      <td>14127</td>\n",
       "      <td>14.99</td>\n",
       "      <td>The Indie Stone</td>\n",
       "      <td>64</td>\n",
       "      <td>87</td>\n",
       "      <td>five star</td>\n",
       "      <td>16134</td>\n",
       "    </tr>\n",
       "    <tr>\n",
       "      <th>15540</th>\n",
       "      <td>15540</td>\n",
       "      <td>0</td>\n",
       "      <td>130</td>\n",
       "      <td>Dejobaan Games, LLC</td>\n",
       "      <td>0</td>\n",
       "      <td>36</td>\n",
       "      <td>1... 2... 3... KICK IT! (Drop That Beat Like a...</td>\n",
       "      <td>307</td>\n",
       "      <td>98476</td>\n",
       "      <td>9654</td>\n",
       "      <td>...</td>\n",
       "      <td>0</td>\n",
       "      <td>73238</td>\n",
       "      <td>8325</td>\n",
       "      <td>145</td>\n",
       "      <td>9.99</td>\n",
       "      <td>Dejobaan Games, LLC</td>\n",
       "      <td>2</td>\n",
       "      <td>31</td>\n",
       "      <td>two star</td>\n",
       "      <td>452</td>\n",
       "    </tr>\n",
       "    <tr>\n",
       "      <th>206500</th>\n",
       "      <td>206500</td>\n",
       "      <td>71</td>\n",
       "      <td>572</td>\n",
       "      <td>Carbon Games</td>\n",
       "      <td>26</td>\n",
       "      <td>88</td>\n",
       "      <td>AirMech Strike</td>\n",
       "      <td>1102</td>\n",
       "      <td>1513013</td>\n",
       "      <td>37786</td>\n",
       "      <td>...</td>\n",
       "      <td>3060</td>\n",
       "      <td>985995</td>\n",
       "      <td>30520</td>\n",
       "      <td>6845</td>\n",
       "      <td>0.00</td>\n",
       "      <td>Carbon Games</td>\n",
       "      <td>61</td>\n",
       "      <td>86</td>\n",
       "      <td>five star</td>\n",
       "      <td>7947</td>\n",
       "    </tr>\n",
       "    <tr>\n",
       "      <th>215830</th>\n",
       "      <td>215830</td>\n",
       "      <td>846</td>\n",
       "      <td>887</td>\n",
       "      <td>Naddic Games</td>\n",
       "      <td>576</td>\n",
       "      <td>675</td>\n",
       "      <td>Closers</td>\n",
       "      <td>15</td>\n",
       "      <td>4206</td>\n",
       "      <td>1995</td>\n",
       "      <td>...</td>\n",
       "      <td>1995</td>\n",
       "      <td>4206</td>\n",
       "      <td>1995</td>\n",
       "      <td>90</td>\n",
       "      <td>14.99</td>\n",
       "      <td>En Masse Entertainment</td>\n",
       "      <td>58</td>\n",
       "      <td>85</td>\n",
       "      <td>five star</td>\n",
       "      <td>105</td>\n",
       "    </tr>\n",
       "    <tr>\n",
       "      <th>221100</th>\n",
       "      <td>221100</td>\n",
       "      <td>369</td>\n",
       "      <td>4887</td>\n",
       "      <td>Bohemia Interactive</td>\n",
       "      <td>76</td>\n",
       "      <td>1257</td>\n",
       "      <td>DayZ</td>\n",
       "      <td>63207</td>\n",
       "      <td>3693089</td>\n",
       "      <td>58901</td>\n",
       "      <td>...</td>\n",
       "      <td>10809</td>\n",
       "      <td>3662655</td>\n",
       "      <td>58660</td>\n",
       "      <td>112079</td>\n",
       "      <td>34.99</td>\n",
       "      <td>Bohemia Interactive</td>\n",
       "      <td>19</td>\n",
       "      <td>63</td>\n",
       "      <td>four star</td>\n",
       "      <td>175286</td>\n",
       "    </tr>\n",
       "  </tbody>\n",
       "</table>\n",
       "<p>5 rows × 21 columns</p>\n",
       "</div>"
      ],
      "text/plain": [
       "         appid average_2weeks average_forever            developer  \\\n",
       "108600  108600            276            1260      The Indie Stone   \n",
       "15540    15540              0             130  Dejobaan Games, LLC   \n",
       "206500  206500             71             572         Carbon Games   \n",
       "215830  215830            846             887         Naddic Games   \n",
       "221100  221100            369            4887  Bohemia Interactive   \n",
       "\n",
       "       median_2weeks median_forever  \\\n",
       "108600            88            362   \n",
       "15540              0             36   \n",
       "206500            26             88   \n",
       "215830           576            675   \n",
       "221100            76           1257   \n",
       "\n",
       "                                                     name negative   owners  \\\n",
       "108600                                    Project Zomboid     2007   872921   \n",
       "15540   1... 2... 3... KICK IT! (Drop That Beat Like a...      307    98476   \n",
       "206500                                     AirMech Strike     1102  1513013   \n",
       "215830                                            Closers       15     4206   \n",
       "221100                                               DayZ    63207  3693089   \n",
       "\n",
       "       owners_variance      ...      players_2weeks_variance players_forever  \\\n",
       "108600           28720      ...                         5685          829126   \n",
       "15540             9654      ...                            0           73238   \n",
       "206500           37786      ...                         3060          985995   \n",
       "215830            1995      ...                         1995            4206   \n",
       "221100           58901      ...                        10809         3662655   \n",
       "\n",
       "       players_forever_variance positive  price               publisher  \\\n",
       "108600                    27992    14127  14.99         The Indie Stone   \n",
       "15540                      8325      145   9.99     Dejobaan Games, LLC   \n",
       "206500                    30520     6845   0.00            Carbon Games   \n",
       "215830                     1995       90  14.99  En Masse Entertainment   \n",
       "221100                    58660   112079  34.99     Bohemia Interactive   \n",
       "\n",
       "       score_rank userscore      stars total_reviews  \n",
       "108600         64        87  five star         16134  \n",
       "15540           2        31   two star           452  \n",
       "206500         61        86  five star          7947  \n",
       "215830         58        85  five star           105  \n",
       "221100         19        63  four star        175286  \n",
       "\n",
       "[5 rows x 21 columns]"
      ]
     },
     "execution_count": 23,
     "metadata": {},
     "output_type": "execute_result"
    }
   ],
   "source": [
    "new_early_access.loc[new_early_access['total_reviews'] >= 100].head()"
   ]
  },
  {
   "cell_type": "code",
   "execution_count": 24,
   "metadata": {},
   "outputs": [],
   "source": [
    "rating_check = new_early_access['total_reviews'] < 50\n",
    "high_score = new_early_access['userscore'] > 99"
   ]
  },
  {
   "cell_type": "code",
   "execution_count": 25,
   "metadata": {},
   "outputs": [
    {
     "data": {
      "text/plain": [
       "100"
      ]
     },
     "execution_count": 25,
     "metadata": {},
     "output_type": "execute_result"
    }
   ],
   "source": [
    "#new_early_access[rating_check & high_score].head()\n",
    "len(new_early_access[rating_check & high_score])"
   ]
  },
  {
   "cell_type": "code",
   "execution_count": 26,
   "metadata": {},
   "outputs": [
    {
     "data": {
      "text/html": [
       "<div>\n",
       "<table border=\"1\" class=\"dataframe\">\n",
       "  <thead>\n",
       "    <tr style=\"text-align: right;\">\n",
       "      <th></th>\n",
       "      <th>appid</th>\n",
       "      <th>average_2weeks</th>\n",
       "      <th>average_forever</th>\n",
       "      <th>developer</th>\n",
       "      <th>median_2weeks</th>\n",
       "      <th>median_forever</th>\n",
       "      <th>name</th>\n",
       "      <th>negative</th>\n",
       "      <th>owners</th>\n",
       "      <th>owners_variance</th>\n",
       "      <th>...</th>\n",
       "      <th>players_2weeks_variance</th>\n",
       "      <th>players_forever</th>\n",
       "      <th>players_forever_variance</th>\n",
       "      <th>positive</th>\n",
       "      <th>price</th>\n",
       "      <th>publisher</th>\n",
       "      <th>score_rank</th>\n",
       "      <th>userscore</th>\n",
       "      <th>stars</th>\n",
       "      <th>total_reviews</th>\n",
       "    </tr>\n",
       "  </thead>\n",
       "  <tbody>\n",
       "    <tr>\n",
       "      <th>242610</th>\n",
       "      <td>242610</td>\n",
       "      <td>0</td>\n",
       "      <td>4495</td>\n",
       "      <td>800 North</td>\n",
       "      <td>0</td>\n",
       "      <td>4495</td>\n",
       "      <td>Grappledrome</td>\n",
       "      <td>2</td>\n",
       "      <td>6928</td>\n",
       "      <td>2560</td>\n",
       "      <td>...</td>\n",
       "      <td>0</td>\n",
       "      <td>738</td>\n",
       "      <td>1444</td>\n",
       "      <td>19</td>\n",
       "      <td>9.99</td>\n",
       "      <td>800 North</td>\n",
       "      <td>74</td>\n",
       "      <td>100</td>\n",
       "      <td>five star</td>\n",
       "      <td>21</td>\n",
       "    </tr>\n",
       "    <tr>\n",
       "      <th>302810</th>\n",
       "      <td>302810</td>\n",
       "      <td>0</td>\n",
       "      <td>85</td>\n",
       "      <td>Team Monkey</td>\n",
       "      <td>0</td>\n",
       "      <td>119</td>\n",
       "      <td>Divinia Chronicles: Relics of Gan-Ti</td>\n",
       "      <td>3</td>\n",
       "      <td>5691</td>\n",
       "      <td>2321</td>\n",
       "      <td>...</td>\n",
       "      <td>0</td>\n",
       "      <td>2242</td>\n",
       "      <td>2534</td>\n",
       "      <td>28</td>\n",
       "      <td>14.99</td>\n",
       "      <td>Team Monkey</td>\n",
       "      <td>74</td>\n",
       "      <td>100</td>\n",
       "      <td>five star</td>\n",
       "      <td>31</td>\n",
       "    </tr>\n",
       "    <tr>\n",
       "      <th>312310</th>\n",
       "      <td>312310</td>\n",
       "      <td>0</td>\n",
       "      <td>17</td>\n",
       "      <td>Only Human Studios</td>\n",
       "      <td>0</td>\n",
       "      <td>28</td>\n",
       "      <td>Ensign-1</td>\n",
       "      <td>7</td>\n",
       "      <td>8907</td>\n",
       "      <td>2903</td>\n",
       "      <td>...</td>\n",
       "      <td>0</td>\n",
       "      <td>1494</td>\n",
       "      <td>2069</td>\n",
       "      <td>4</td>\n",
       "      <td>1.99</td>\n",
       "      <td>Only Human Studios</td>\n",
       "      <td>3</td>\n",
       "      <td>100</td>\n",
       "      <td>five star</td>\n",
       "      <td>11</td>\n",
       "    </tr>\n",
       "    <tr>\n",
       "      <th>314350</th>\n",
       "      <td>314350</td>\n",
       "      <td>0</td>\n",
       "      <td>0</td>\n",
       "      <td>W3 Studios</td>\n",
       "      <td>0</td>\n",
       "      <td>0</td>\n",
       "      <td>Abatron</td>\n",
       "      <td>0</td>\n",
       "      <td>747</td>\n",
       "      <td>1463</td>\n",
       "      <td>...</td>\n",
       "      <td>0</td>\n",
       "      <td>0</td>\n",
       "      <td>0</td>\n",
       "      <td>6</td>\n",
       "      <td>19.99</td>\n",
       "      <td>W3 Studios</td>\n",
       "      <td>100</td>\n",
       "      <td>100</td>\n",
       "      <td>five star</td>\n",
       "      <td>6</td>\n",
       "    </tr>\n",
       "    <tr>\n",
       "      <th>339560</th>\n",
       "      <td>339560</td>\n",
       "      <td>0</td>\n",
       "      <td>11</td>\n",
       "      <td>Global Empire Soft</td>\n",
       "      <td>0</td>\n",
       "      <td>11</td>\n",
       "      <td>Man Alive</td>\n",
       "      <td>11</td>\n",
       "      <td>6186</td>\n",
       "      <td>2419</td>\n",
       "      <td>...</td>\n",
       "      <td>0</td>\n",
       "      <td>747</td>\n",
       "      <td>1463</td>\n",
       "      <td>6</td>\n",
       "      <td>4.99</td>\n",
       "      <td>Global Empire Soft</td>\n",
       "      <td>3</td>\n",
       "      <td>100</td>\n",
       "      <td>five star</td>\n",
       "      <td>17</td>\n",
       "    </tr>\n",
       "  </tbody>\n",
       "</table>\n",
       "<p>5 rows × 21 columns</p>\n",
       "</div>"
      ],
      "text/plain": [
       "         appid average_2weeks average_forever           developer  \\\n",
       "242610  242610              0            4495           800 North   \n",
       "302810  302810              0              85         Team Monkey   \n",
       "312310  312310              0              17  Only Human Studios   \n",
       "314350  314350              0               0          W3 Studios   \n",
       "339560  339560              0              11  Global Empire Soft   \n",
       "\n",
       "       median_2weeks median_forever                                  name  \\\n",
       "242610             0           4495                          Grappledrome   \n",
       "302810             0            119  Divinia Chronicles: Relics of Gan-Ti   \n",
       "312310             0             28                              Ensign-1   \n",
       "314350             0              0                               Abatron   \n",
       "339560             0             11                             Man Alive   \n",
       "\n",
       "       negative owners owners_variance      ...      players_2weeks_variance  \\\n",
       "242610        2   6928            2560      ...                            0   \n",
       "302810        3   5691            2321      ...                            0   \n",
       "312310        7   8907            2903      ...                            0   \n",
       "314350        0    747            1463      ...                            0   \n",
       "339560       11   6186            2419      ...                            0   \n",
       "\n",
       "       players_forever players_forever_variance positive  price  \\\n",
       "242610             738                     1444       19   9.99   \n",
       "302810            2242                     2534       28  14.99   \n",
       "312310            1494                     2069        4   1.99   \n",
       "314350               0                        0        6  19.99   \n",
       "339560             747                     1463        6   4.99   \n",
       "\n",
       "                 publisher score_rank userscore      stars total_reviews  \n",
       "242610           800 North         74       100  five star            21  \n",
       "302810         Team Monkey         74       100  five star            31  \n",
       "312310  Only Human Studios          3       100  five star            11  \n",
       "314350          W3 Studios        100       100  five star             6  \n",
       "339560  Global Empire Soft          3       100  five star            17  \n",
       "\n",
       "[5 rows x 21 columns]"
      ]
     },
     "execution_count": 26,
     "metadata": {},
     "output_type": "execute_result"
    }
   ],
   "source": [
    "new_early_access[rating_check & high_score].head()"
   ]
  },
  {
   "cell_type": "code",
   "execution_count": 27,
   "metadata": {},
   "outputs": [
    {
     "data": {
      "text/plain": [
       "15416.019582052339"
      ]
     },
     "execution_count": 27,
     "metadata": {},
     "output_type": "execute_result"
    }
   ],
   "source": [
    "new_early_access['total_reviews'].std()"
   ]
  },
  {
   "cell_type": "code",
   "execution_count": 28,
   "metadata": {},
   "outputs": [
    {
     "data": {
      "text/plain": [
       "53.0"
      ]
     },
     "execution_count": 28,
     "metadata": {},
     "output_type": "execute_result"
    }
   ],
   "source": [
    "new_early_access['total_reviews'].median()"
   ]
  },
  {
   "cell_type": "code",
   "execution_count": 29,
   "metadata": {},
   "outputs": [
    {
     "data": {
      "text/plain": [
       "2388853"
      ]
     },
     "execution_count": 29,
     "metadata": {},
     "output_type": "execute_result"
    }
   ],
   "source": [
    "new_early_access['total_reviews'].sum()"
   ]
  },
  {
   "cell_type": "code",
   "execution_count": 30,
   "metadata": {},
   "outputs": [],
   "source": [
    "drop_zero = new_early_access['total_reviews'] > 0"
   ]
  },
  {
   "cell_type": "code",
   "execution_count": 31,
   "metadata": {},
   "outputs": [],
   "source": [
    "new_early_access = new_early_access[drop_zero]"
   ]
  },
  {
   "cell_type": "code",
   "execution_count": 32,
   "metadata": {},
   "outputs": [
    {
     "data": {
      "text/plain": [
       "2388853"
      ]
     },
     "execution_count": 32,
     "metadata": {},
     "output_type": "execute_result"
    }
   ],
   "source": [
    "new_early_access['total_reviews'].sum()"
   ]
  },
  {
   "cell_type": "code",
   "execution_count": 33,
   "metadata": {},
   "outputs": [
    {
     "data": {
      "text/plain": [
       "73.0"
      ]
     },
     "execution_count": 33,
     "metadata": {},
     "output_type": "execute_result"
    }
   ],
   "source": [
    "new_early_access['total_reviews'].median()"
   ]
  },
  {
   "cell_type": "code",
   "execution_count": 34,
   "metadata": {},
   "outputs": [
    {
     "data": {
      "text/plain": [
       "16468.019487662361"
      ]
     },
     "execution_count": 34,
     "metadata": {},
     "output_type": "execute_result"
    }
   ],
   "source": [
    "new_early_access['total_reviews'].std()"
   ]
  },
  {
   "cell_type": "code",
   "execution_count": 35,
   "metadata": {},
   "outputs": [
    {
     "data": {
      "text/html": [
       "<div>\n",
       "<table border=\"1\" class=\"dataframe\">\n",
       "  <thead>\n",
       "    <tr style=\"text-align: right;\">\n",
       "      <th></th>\n",
       "      <th>appid</th>\n",
       "      <th>average_2weeks</th>\n",
       "      <th>average_forever</th>\n",
       "      <th>developer</th>\n",
       "      <th>median_2weeks</th>\n",
       "      <th>median_forever</th>\n",
       "      <th>name</th>\n",
       "      <th>negative</th>\n",
       "      <th>owners</th>\n",
       "      <th>owners_variance</th>\n",
       "      <th>players_2weeks</th>\n",
       "      <th>players_2weeks_variance</th>\n",
       "      <th>players_forever</th>\n",
       "      <th>players_forever_variance</th>\n",
       "      <th>positive</th>\n",
       "      <th>price</th>\n",
       "      <th>publisher</th>\n",
       "      <th>score_rank</th>\n",
       "      <th>userscore</th>\n",
       "      <th>stars</th>\n",
       "    </tr>\n",
       "  </thead>\n",
       "  <tbody>\n",
       "    <tr>\n",
       "      <th>107410</th>\n",
       "      <td>107410</td>\n",
       "      <td>857</td>\n",
       "      <td>11409</td>\n",
       "      <td>Bohemia Interactive</td>\n",
       "      <td>260</td>\n",
       "      <td>1992</td>\n",
       "      <td>Arma 3</td>\n",
       "      <td>9371</td>\n",
       "      <td>3647315</td>\n",
       "      <td>58538</td>\n",
       "      <td>436955</td>\n",
       "      <td>20329</td>\n",
       "      <td>3538200</td>\n",
       "      <td>57662</td>\n",
       "      <td>87484</td>\n",
       "      <td>39.99</td>\n",
       "      <td>Bohemia Interactive</td>\n",
       "      <td>74</td>\n",
       "      <td>90</td>\n",
       "      <td>five star</td>\n",
       "    </tr>\n",
       "    <tr>\n",
       "      <th>200110</th>\n",
       "      <td>200110</td>\n",
       "      <td>41</td>\n",
       "      <td>416</td>\n",
       "      <td>Psyonix</td>\n",
       "      <td>78</td>\n",
       "      <td>59</td>\n",
       "      <td>Nosgoth</td>\n",
       "      <td>3860</td>\n",
       "      <td>4309676</td>\n",
       "      <td>63588</td>\n",
       "      <td>1732</td>\n",
       "      <td>1280</td>\n",
       "      <td>2307253</td>\n",
       "      <td>46623</td>\n",
       "      <td>11015</td>\n",
       "      <td>0.00</td>\n",
       "      <td>Square Enix</td>\n",
       "      <td></td>\n",
       "      <td>0</td>\n",
       "      <td>one star</td>\n",
       "    </tr>\n",
       "    <tr>\n",
       "      <th>200150</th>\n",
       "      <td>200150</td>\n",
       "      <td>128</td>\n",
       "      <td>467</td>\n",
       "      <td>Olde Sküül, Sculptured Software</td>\n",
       "      <td>163</td>\n",
       "      <td>353</td>\n",
       "      <td>Battle Chess: Game of Kings</td>\n",
       "      <td>95</td>\n",
       "      <td>8907</td>\n",
       "      <td>2903</td>\n",
       "      <td>1484</td>\n",
       "      <td>2055</td>\n",
       "      <td>8165</td>\n",
       "      <td>2780</td>\n",
       "      <td>88</td>\n",
       "      <td>29.99</td>\n",
       "      <td>Interplay Entertainment Corp.</td>\n",
       "      <td>8</td>\n",
       "      <td>47</td>\n",
       "      <td>three star</td>\n",
       "    </tr>\n",
       "    <tr>\n",
       "      <th>202090</th>\n",
       "      <td>202090</td>\n",
       "      <td>1</td>\n",
       "      <td>217</td>\n",
       "      <td>Paradox North</td>\n",
       "      <td>1</td>\n",
       "      <td>49</td>\n",
       "      <td>Magicka: Wizard Wars</td>\n",
       "      <td>1708</td>\n",
       "      <td>3587190</td>\n",
       "      <td>58057</td>\n",
       "      <td>1480</td>\n",
       "      <td>1448</td>\n",
       "      <td>1944278</td>\n",
       "      <td>42815</td>\n",
       "      <td>9721</td>\n",
       "      <td>0.00</td>\n",
       "      <td>Paradox Interactive</td>\n",
       "      <td></td>\n",
       "      <td>0</td>\n",
       "      <td>one star</td>\n",
       "    </tr>\n",
       "    <tr>\n",
       "      <th>207140</th>\n",
       "      <td>207140</td>\n",
       "      <td>137</td>\n",
       "      <td>742</td>\n",
       "      <td>DoubleDutch Games</td>\n",
       "      <td>35</td>\n",
       "      <td>258</td>\n",
       "      <td>SpeedRunners</td>\n",
       "      <td>1254</td>\n",
       "      <td>1630788</td>\n",
       "      <td>39225</td>\n",
       "      <td>64826</td>\n",
       "      <td>7833</td>\n",
       "      <td>1409094</td>\n",
       "      <td>36470</td>\n",
       "      <td>19003</td>\n",
       "      <td>14.99</td>\n",
       "      <td>tinyBuild</td>\n",
       "      <td>85</td>\n",
       "      <td>94</td>\n",
       "      <td>five star</td>\n",
       "    </tr>\n",
       "  </tbody>\n",
       "</table>\n",
       "</div>"
      ],
      "text/plain": [
       "         appid average_2weeks average_forever  \\\n",
       "107410  107410            857           11409   \n",
       "200110  200110             41             416   \n",
       "200150  200150            128             467   \n",
       "202090  202090              1             217   \n",
       "207140  207140            137             742   \n",
       "\n",
       "                              developer median_2weeks median_forever  \\\n",
       "107410              Bohemia Interactive           260           1992   \n",
       "200110                          Psyonix            78             59   \n",
       "200150  Olde Sküül, Sculptured Software           163            353   \n",
       "202090                    Paradox North             1             49   \n",
       "207140                DoubleDutch Games            35            258   \n",
       "\n",
       "                               name negative   owners owners_variance  \\\n",
       "107410                       Arma 3     9371  3647315           58538   \n",
       "200110                      Nosgoth     3860  4309676           63588   \n",
       "200150  Battle Chess: Game of Kings       95     8907            2903   \n",
       "202090         Magicka: Wizard Wars     1708  3587190           58057   \n",
       "207140                 SpeedRunners     1254  1630788           39225   \n",
       "\n",
       "       players_2weeks players_2weeks_variance players_forever  \\\n",
       "107410         436955                   20329         3538200   \n",
       "200110           1732                    1280         2307253   \n",
       "200150           1484                    2055            8165   \n",
       "202090           1480                    1448         1944278   \n",
       "207140          64826                    7833         1409094   \n",
       "\n",
       "       players_forever_variance positive  price  \\\n",
       "107410                    57662    87484  39.99   \n",
       "200110                    46623    11015   0.00   \n",
       "200150                     2780       88  29.99   \n",
       "202090                    42815     9721   0.00   \n",
       "207140                    36470    19003  14.99   \n",
       "\n",
       "                            publisher score_rank userscore       stars  \n",
       "107410            Bohemia Interactive         74        90   five star  \n",
       "200110                    Square Enix                    0    one star  \n",
       "200150  Interplay Entertainment Corp.          8        47  three star  \n",
       "202090            Paradox Interactive                    0    one star  \n",
       "207140                      tinyBuild         85        94   five star  "
      ]
     },
     "execution_count": 35,
     "metadata": {},
     "output_type": "execute_result"
    }
   ],
   "source": [
    "new_ex_early_access.head()"
   ]
  },
  {
   "cell_type": "code",
   "execution_count": 37,
   "metadata": {},
   "outputs": [],
   "source": [
    "total_ex_early_reviews = new_ex_early_access['negative'] + new_ex_early_access['positive']\n",
    "new_ex_early_access['total_reviews'] = total_ex_early_reviews"
   ]
  },
  {
   "cell_type": "code",
   "execution_count": 38,
   "metadata": {},
   "outputs": [],
   "source": [
    "new_full_table = new_early_access.append(new_ex_early_access)"
   ]
  },
  {
   "cell_type": "markdown",
   "metadata": {},
   "source": [
    "### Remade the userscore to be the positive number of reviews divided by the total reviews. Did this because the current userscore was being calculated in the same manner but was only counting the reviews of products that had purchased the item through steam and also left a review. This new score is more accurate to the score of all reviews left on the product. Note: Reviews can only be left if the person owns the game"
   ]
  },
  {
   "cell_type": "code",
   "execution_count": 39,
   "metadata": {},
   "outputs": [],
   "source": [
    "new_full_table.positive = new_full_table['positive'].dropna(how='all')\n",
    "new_full_table.total_reviews = new_full_table['total_reviews'].dropna(how='all')"
   ]
  },
  {
   "cell_type": "code",
   "execution_count": 56,
   "metadata": {},
   "outputs": [
    {
     "data": {
      "text/html": [
       "<div>\n",
       "<table border=\"1\" class=\"dataframe\">\n",
       "  <thead>\n",
       "    <tr style=\"text-align: right;\">\n",
       "      <th></th>\n",
       "      <th>appid</th>\n",
       "      <th>average_2weeks</th>\n",
       "      <th>average_forever</th>\n",
       "      <th>developer</th>\n",
       "      <th>median_2weeks</th>\n",
       "      <th>median_forever</th>\n",
       "      <th>name</th>\n",
       "      <th>negative</th>\n",
       "      <th>owners</th>\n",
       "      <th>owners_variance</th>\n",
       "      <th>...</th>\n",
       "      <th>players_2weeks_variance</th>\n",
       "      <th>players_forever</th>\n",
       "      <th>players_forever_variance</th>\n",
       "      <th>positive</th>\n",
       "      <th>price</th>\n",
       "      <th>publisher</th>\n",
       "      <th>score_rank</th>\n",
       "      <th>userscore</th>\n",
       "      <th>stars</th>\n",
       "      <th>total_reviews</th>\n",
       "    </tr>\n",
       "  </thead>\n",
       "  <tbody>\n",
       "    <tr>\n",
       "      <th>108600</th>\n",
       "      <td>108600</td>\n",
       "      <td>276</td>\n",
       "      <td>1260</td>\n",
       "      <td>The Indie Stone</td>\n",
       "      <td>88</td>\n",
       "      <td>362</td>\n",
       "      <td>Project Zomboid</td>\n",
       "      <td>2007</td>\n",
       "      <td>872921</td>\n",
       "      <td>28720</td>\n",
       "      <td>...</td>\n",
       "      <td>5685</td>\n",
       "      <td>829126</td>\n",
       "      <td>27992</td>\n",
       "      <td>14127</td>\n",
       "      <td>14.99</td>\n",
       "      <td>The Indie Stone</td>\n",
       "      <td>64</td>\n",
       "      <td>87</td>\n",
       "      <td>five star</td>\n",
       "      <td>16134</td>\n",
       "    </tr>\n",
       "    <tr>\n",
       "      <th>15540</th>\n",
       "      <td>15540</td>\n",
       "      <td>0</td>\n",
       "      <td>130</td>\n",
       "      <td>Dejobaan Games, LLC</td>\n",
       "      <td>0</td>\n",
       "      <td>36</td>\n",
       "      <td>1... 2... 3... KICK IT! (Drop That Beat Like a...</td>\n",
       "      <td>307</td>\n",
       "      <td>98476</td>\n",
       "      <td>9654</td>\n",
       "      <td>...</td>\n",
       "      <td>0</td>\n",
       "      <td>73238</td>\n",
       "      <td>8325</td>\n",
       "      <td>145</td>\n",
       "      <td>9.99</td>\n",
       "      <td>Dejobaan Games, LLC</td>\n",
       "      <td>2</td>\n",
       "      <td>32</td>\n",
       "      <td>two star</td>\n",
       "      <td>452</td>\n",
       "    </tr>\n",
       "    <tr>\n",
       "      <th>206500</th>\n",
       "      <td>206500</td>\n",
       "      <td>71</td>\n",
       "      <td>572</td>\n",
       "      <td>Carbon Games</td>\n",
       "      <td>26</td>\n",
       "      <td>88</td>\n",
       "      <td>AirMech Strike</td>\n",
       "      <td>1102</td>\n",
       "      <td>1513013</td>\n",
       "      <td>37786</td>\n",
       "      <td>...</td>\n",
       "      <td>3060</td>\n",
       "      <td>985995</td>\n",
       "      <td>30520</td>\n",
       "      <td>6845</td>\n",
       "      <td>0.00</td>\n",
       "      <td>Carbon Games</td>\n",
       "      <td>61</td>\n",
       "      <td>86</td>\n",
       "      <td>five star</td>\n",
       "      <td>7947</td>\n",
       "    </tr>\n",
       "    <tr>\n",
       "      <th>215830</th>\n",
       "      <td>215830</td>\n",
       "      <td>846</td>\n",
       "      <td>887</td>\n",
       "      <td>Naddic Games</td>\n",
       "      <td>576</td>\n",
       "      <td>675</td>\n",
       "      <td>Closers</td>\n",
       "      <td>15</td>\n",
       "      <td>4206</td>\n",
       "      <td>1995</td>\n",
       "      <td>...</td>\n",
       "      <td>1995</td>\n",
       "      <td>4206</td>\n",
       "      <td>1995</td>\n",
       "      <td>90</td>\n",
       "      <td>14.99</td>\n",
       "      <td>En Masse Entertainment</td>\n",
       "      <td>58</td>\n",
       "      <td>85</td>\n",
       "      <td>five star</td>\n",
       "      <td>105</td>\n",
       "    </tr>\n",
       "    <tr>\n",
       "      <th>217120</th>\n",
       "      <td>217120</td>\n",
       "      <td>0</td>\n",
       "      <td>5268</td>\n",
       "      <td>Squid In A Box Ltd</td>\n",
       "      <td>0</td>\n",
       "      <td>5298</td>\n",
       "      <td>Waves 2</td>\n",
       "      <td>4</td>\n",
       "      <td>1979</td>\n",
       "      <td>1368</td>\n",
       "      <td>...</td>\n",
       "      <td>0</td>\n",
       "      <td>1979</td>\n",
       "      <td>1368</td>\n",
       "      <td>46</td>\n",
       "      <td>9.99</td>\n",
       "      <td>Squid In A Box Ltd</td>\n",
       "      <td>81</td>\n",
       "      <td>92</td>\n",
       "      <td>five star</td>\n",
       "      <td>50</td>\n",
       "    </tr>\n",
       "  </tbody>\n",
       "</table>\n",
       "<p>5 rows × 21 columns</p>\n",
       "</div>"
      ],
      "text/plain": [
       "         appid average_2weeks average_forever            developer  \\\n",
       "108600  108600            276            1260      The Indie Stone   \n",
       "15540    15540              0             130  Dejobaan Games, LLC   \n",
       "206500  206500             71             572         Carbon Games   \n",
       "215830  215830            846             887         Naddic Games   \n",
       "217120  217120              0            5268   Squid In A Box Ltd   \n",
       "\n",
       "       median_2weeks median_forever  \\\n",
       "108600            88            362   \n",
       "15540              0             36   \n",
       "206500            26             88   \n",
       "215830           576            675   \n",
       "217120             0           5298   \n",
       "\n",
       "                                                     name negative   owners  \\\n",
       "108600                                    Project Zomboid     2007   872921   \n",
       "15540   1... 2... 3... KICK IT! (Drop That Beat Like a...      307    98476   \n",
       "206500                                     AirMech Strike     1102  1513013   \n",
       "215830                                            Closers       15     4206   \n",
       "217120                                            Waves 2        4     1979   \n",
       "\n",
       "       owners_variance      ...      players_2weeks_variance players_forever  \\\n",
       "108600           28720      ...                         5685          829126   \n",
       "15540             9654      ...                            0           73238   \n",
       "206500           37786      ...                         3060          985995   \n",
       "215830            1995      ...                         1995            4206   \n",
       "217120            1368      ...                            0            1979   \n",
       "\n",
       "       players_forever_variance positive  price               publisher  \\\n",
       "108600                    27992    14127  14.99         The Indie Stone   \n",
       "15540                      8325      145   9.99     Dejobaan Games, LLC   \n",
       "206500                    30520     6845   0.00            Carbon Games   \n",
       "215830                     1995       90  14.99  En Masse Entertainment   \n",
       "217120                     1368       46   9.99      Squid In A Box Ltd   \n",
       "\n",
       "       score_rank userscore      stars total_reviews  \n",
       "108600         64        87  five star         16134  \n",
       "15540           2        32   two star           452  \n",
       "206500         61        86  five star          7947  \n",
       "215830         58        85  five star           105  \n",
       "217120         81        92  five star            50  \n",
       "\n",
       "[5 rows x 21 columns]"
      ]
     },
     "execution_count": 56,
     "metadata": {},
     "output_type": "execute_result"
    }
   ],
   "source": [
    "drop_full_zero = new_full_table['total_reviews'] > 0\n",
    "new_full_table =  new_full_table[drop_full_zero]\n",
    "new_full_table.userscore = (new_full_table['positive']/ new_full_table['total_reviews']) *100\n",
    "new_full_table.userscore = new_full_table.userscore.astype(int)\n",
    "new_full_table.head()"
   ]
  },
  {
   "cell_type": "markdown",
   "metadata": {},
   "source": [
    "a --------------------------------------"
   ]
  },
  {
   "cell_type": "code",
   "execution_count": 57,
   "metadata": {},
   "outputs": [
    {
     "data": {
      "image/png": "[encoded data removed]",
      "text/plain": [
       "<matplotlib.figure.Figure at 0x7fb264f36990>"
      ]
     },
     "metadata": {},
     "output_type": "display_data"
    }
   ],
   "source": [
    "# This graph shows distribution of price of games in our data set \n",
    "bins= [0,1,5,10,20,30,40,51]\n",
    "plt.hist(new_early_access.price, bins=bins, color=\"g\")\n",
    "plt.xticks(bins)\n",
    "\n",
    "plt.title('Price Distribution')\n",
    "plt.xlabel('Price of Games(in USD)')\n",
    "plt.ylabel('Number of Games')\n",
    "\n",
    "plt.show() "
   ]
  },
  {
   "cell_type": "code",
   "execution_count": 58,
   "metadata": {},
   "outputs": [],
   "source": [
    "import seaborn as sns\n",
    "sns.set(color_codes=True)"
   ]
  },
  {
   "cell_type": "code",
   "execution_count": 59,
   "metadata": {},
   "outputs": [
    {
     "data": {
      "image/png": "[encoded data removed]",
      "text/plain": [
       "<matplotlib.figure.Figure at 0x7fb264f8c2d0>"
      ]
     },
     "metadata": {},
     "output_type": "display_data"
    }
   ],
   "source": [
    "sns.jointplot(x=new_early_access['price'], y=new_early_access['userscore'], data=new_early_access, kind=\"kde\");"
   ]
  },
  {
   "cell_type": "markdown",
   "metadata": {},
   "source": [
    "# Correlation\n",
    "Creating correlation heatmaps to observe the correlation between numeric values in our dataset. A new dataset must be created that contains only numeric values for correlation calculations. After creating the new data frame, each value must be changed to numeric values before they can be recognized by the correlation function."
   ]
  },
  {
   "cell_type": "code",
   "execution_count": 61,
   "metadata": {},
   "outputs": [
    {
     "data": {
      "text/plain": [
       "<matplotlib.axes._subplots.AxesSubplot at 0x7fb264b13dd0>"
      ]
     },
     "execution_count": 61,
     "metadata": {},
     "output_type": "execute_result"
    },
    {
     "data": {
      "image/png": "[encoded data removed]",
      "text/plain": [
       "<matplotlib.figure.Figure at 0x7fb264fb2850>"
      ]
     },
     "metadata": {},
     "output_type": "display_data"
    }
   ],
   "source": [
    "new_numeric = new_early_access[['average_2weeks','average_forever','median_2weeks','median_forever','negative','owners','owners_variance','players_2weeks_variance','players_forever','players_forever_variance','positive','price','score_rank','userscore','total_reviews']]\n",
    "new_numeric.head()\n",
    "\n",
    "new_numeric['average_2weeks'] = pd.to_numeric(new_numeric['average_2weeks'], errors='coerce')\n",
    "new_numeric['average_forever'] = pd.to_numeric(new_numeric['average_forever'], errors='coerce')\n",
    "new_numeric['median_2weeks'] = pd.to_numeric(new_numeric['median_2weeks'], errors='coerce')\n",
    "new_numeric['median_forever'] = pd.to_numeric(new_numeric['median_forever'], errors='coerce')\n",
    "new_numeric['negative'] = pd.to_numeric(new_numeric['negative'], errors='coerce')\n",
    "new_numeric['owners'] = pd.to_numeric(new_numeric['owners'], errors='coerce')\n",
    "new_numeric['owners_variance'] = pd.to_numeric(new_numeric['owners_variance'], errors='coerce')\n",
    "new_numeric['players_2weeks_variance'] = pd.to_numeric(new_numeric['players_2weeks_variance'], errors='coerce')\n",
    "new_numeric['players_forever'] = pd.to_numeric(new_numeric['players_forever'], errors='coerce')\n",
    "new_numeric['players_forever_variance'] = pd.to_numeric(new_numeric['players_forever_variance'], errors='coerce')\n",
    "new_numeric['positive'] = pd.to_numeric(new_numeric['positive'], errors='coerce')\n",
    "new_numeric['price'] = pd.to_numeric(new_numeric['price'], errors='coerce')\n",
    "new_numeric['score_rank'] = pd.to_numeric(new_numeric['score_rank'], errors='coerce')\n",
    "new_numeric['userscore'] = pd.to_numeric(new_numeric['userscore'], errors='coerce')\n",
    "new_numeric['total_reviews'] = pd.to_numeric(new_numeric['total_reviews'], errors='coerce')\n",
    "\n",
    "corr = new_numeric.corr()\n",
    "sns.heatmap(corr)"
   ]
  },
  {
   "cell_type": "markdown",
   "metadata": {},
   "source": [
    "### From looking at the heatmap, we see the highest correlation from values near the center. This heatmap confirms and rejects some of the ideas that we had thought about in terms of correlation. For example, price seems to have little to no correlation on any other variable. Owners have a correlation on the number of reviews but this is to be expected. As there are more owners, the number of reviews would be expected to go up"
   ]
  },
  {
   "cell_type": "code",
   "execution_count": 62,
   "metadata": {},
   "outputs": [
    {
     "data": {
      "text/plain": [
       "0.89939155260256165"
      ]
     },
     "execution_count": 62,
     "metadata": {},
     "output_type": "execute_result"
    }
   ],
   "source": [
    "new_numeric['positive'].corr(new_numeric['negative'])"
   ]
  },
  {
   "cell_type": "code",
   "execution_count": 63,
   "metadata": {},
   "outputs": [
    {
     "data": {
      "text/plain": [
       "0.91060172782371418"
      ]
     },
     "execution_count": 63,
     "metadata": {},
     "output_type": "execute_result"
    }
   ],
   "source": [
    "new_numeric['positive'].corr(new_numeric['owners'])"
   ]
  },
  {
   "cell_type": "code",
   "execution_count": 64,
   "metadata": {},
   "outputs": [
    {
     "data": {
      "text/plain": [
       "0.8500724804525075"
      ]
     },
     "execution_count": 64,
     "metadata": {},
     "output_type": "execute_result"
    }
   ],
   "source": [
    "new_numeric['negative'].corr(new_numeric['owners'])"
   ]
  },
  {
   "cell_type": "markdown",
   "metadata": {},
   "source": [
    "### There is a strong correlation between positive and negative reviews, which is strange. I wouldn't expect the number of negative reviews to increase along side postive ones. Also there seems to be a slightly stronger correlation between number of owners and postive reviews compared to owners and negative reviews. \n",
    "\n",
    "# See above 3 values"
   ]
  },
  {
   "cell_type": "code",
   "execution_count": null,
   "metadata": {},
   "outputs": [],
   "source": []
  }
 ],
 "metadata": {
  "kernelspec": {
   "display_name": "Python 2",
   "language": "python",
   "name": "python2"
  },
  "language_info": {
   "codemirror_mode": {
    "name": "ipython",
    "version": 2
   },
   "file_extension": ".py",
   "mimetype": "text/x-python",
   "name": "python",
   "nbconvert_exporter": "python",
   "pygments_lexer": "ipython2",
   "version": "2.7.12"
  }
 },
 "nbformat": 4,
 "nbformat_minor": 1
}
