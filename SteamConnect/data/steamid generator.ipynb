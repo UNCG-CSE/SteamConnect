{
 "cells": [
  {
   "cell_type": "markdown",
   "metadata": {},
   "source": [
    "# SteamID Generator\n",
    "recursive steamID collector, exports to a json or xml file.\n"
   ]
  },
  {
   "cell_type": "code",
   "execution_count": 90,
   "metadata": {},
   "outputs": [
    {
     "name": "stdout",
     "output_type": "stream",
     "text": [
      "['76561197963277200', '76561197977611800', '76561198010550300', '76561198021299600', '76561198030044300', '76561198040961900', '76561198048602800', '76561198071895300', '76561198076726800', '76561198098274400', '76561198136941800', '76561198237512100', '76561198297547400', '76561198333239100']\n"
     ]
    }
   ],
   "source": [
    "import pandas as pd\n",
    "import numpy as np\n",
    "import io #we will need this when we will output to json or xml file \n",
    "\n",
    "steamids = pd.read_csv('../data/steamids.csv', header=0) #reads in csv file\n",
    "list1 = list(steamids) #wouldn't let me print as a df, so i made it into a list\n",
    "print list1"
   ]
  },
  {
   "cell_type": "code",
   "execution_count": 91,
   "metadata": {},
   "outputs": [
    {
     "name": "stdout",
     "output_type": "stream",
     "text": [
      "                  0                  1                  2                  3   \\\n",
      "A  76561197963277200  76561197977611800  76561198010550300  76561198021299600   \n",
      "\n",
      "                  4                  5                  6                  7   \\\n",
      "A  76561198030044300  76561198040961900  76561198048602800  76561198071895300   \n",
      "\n",
      "                  8                  9                  10                 11  \\\n",
      "A  76561198076726800  76561198098274400  76561198136941800  76561198237512100   \n",
      "\n",
      "                  12                 13  \n",
      "A  76561198297547400  76561198333239100  \n"
     ]
    }
   ],
   "source": [
    "#converts the list into a single row dataframe\n",
    "df1 = pd.DataFrame(np.array(list1).reshape(1, 14), list(\"A\"))\n",
    "print df1"
   ]
  },
  {
   "cell_type": "code",
   "execution_count": null,
   "metadata": {},
   "outputs": [],
   "source": []
  },
  {
   "cell_type": "code",
   "execution_count": null,
   "metadata": {},
   "outputs": [],
   "source": []
  }
 ],
 "metadata": {
  "kernelspec": {
   "display_name": "Python 2",
   "language": "python",
   "name": "python2"
  },
  "language_info": {
   "codemirror_mode": {
    "name": "ipython",
    "version": 2
   },
   "file_extension": ".py",
   "mimetype": "text/x-python",
   "name": "python",
   "nbconvert_exporter": "python",
   "pygments_lexer": "ipython2",
   "version": "2.7.12"
  }
 },
 "nbformat": 4,
 "nbformat_minor": 2
}
